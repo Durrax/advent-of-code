{
 "cells": [
  {
   "cell_type": "markdown",
   "metadata": {},
   "source": [
    "### Setup"
   ]
  },
  {
   "cell_type": "code",
   "execution_count": 2,
   "metadata": {},
   "outputs": [],
   "source": [
    "from os.path import join\n",
    "\n",
    "from pathlib import Path\n",
    "cwd = Path.cwd()"
   ]
  },
  {
   "cell_type": "markdown",
   "metadata": {},
   "source": [
    "### Day 1"
   ]
  },
  {
   "cell_type": "code",
   "execution_count": 5,
   "metadata": {},
   "outputs": [
    {
     "name": "stdout",
     "output_type": "stream",
     "text": [
      "1722302\n"
     ]
    }
   ],
   "source": [
    "from operator import sub, abs\n",
    "\n",
    "list1 = []\n",
    "list2 = []\n",
    "\n",
    "with open(join(cwd, \"inputs/input_1.txt\")) as file:\n",
    "    for line in file:\n",
    "        line = line.strip().split(\"   \")\n",
    "        list1.append(int(line[0]))\n",
    "        list2.append(int(line[1]))\n",
    "\n",
    "list1.sort()\n",
    "list2.sort()\n",
    "\n",
    "dif = [*map(sub, list2, list1)]\n",
    "dif = [*map(abs, dif)]\n",
    "\n",
    "\n",
    "result = sum(dif)\n",
    "\n",
    "print(result)"
   ]
  },
  {
   "cell_type": "code",
   "execution_count": 6,
   "metadata": {},
   "outputs": [
    {
     "name": "stdout",
     "output_type": "stream",
     "text": [
      "20373490\n"
     ]
    }
   ],
   "source": [
    "sim_score = 0\n",
    "\n",
    "for elemL in list1:\n",
    "    count = 0\n",
    "    for elemR in list2:\n",
    "        if elemL == elemR:\n",
    "            count += 1\n",
    "    sim_score += elemL * count\n",
    "\n",
    "print(sim_score)"
   ]
  },
  {
   "cell_type": "markdown",
   "metadata": {},
   "source": [
    "### Day 2"
   ]
  },
  {
   "cell_type": "code",
   "execution_count": 7,
   "metadata": {},
   "outputs": [
    {
     "name": "stdout",
     "output_type": "stream",
     "text": [
      "411\n"
     ]
    }
   ],
   "source": [
    "safe_count = 0\n",
    "\n",
    "with open(join(cwd, \"inputs/input_2.txt\")) as file:\n",
    "    for line in file:\n",
    "        report = line.strip().split(\" \")\n",
    "        report = [int(x) for x in report]\n",
    "        \n",
    "        iter = [*zip(report, report[1:])]\n",
    "        if (all(a<b for a,b in iter) or all(a>b for a,b in iter)) and all(abs(a-b)<=3 for a,b in iter):\n",
    "            safe_count += 1\n",
    "        \n",
    "print(safe_count)"
   ]
  },
  {
   "cell_type": "code",
   "execution_count": 8,
   "metadata": {},
   "outputs": [
    {
     "name": "stdout",
     "output_type": "stream",
     "text": [
      "465\n"
     ]
    }
   ],
   "source": [
    "safe_count = 0\n",
    "\n",
    "with open(join(cwd, \"inputs/input_2.txt\")) as file:\n",
    "    for line in file:\n",
    "        report = line.strip().split(\" \")\n",
    "        report = [int(x) for x in report]\n",
    "        \n",
    "        safe = 0\n",
    "        for i in range(len(report)):\n",
    "            report_one_less = [x[1] for x in enumerate(report) if x[0] != i]\n",
    "            iter = [*zip(report_one_less, report_one_less[1:])]\n",
    "            if (all(a<b for a,b in iter) or all(a>b for a,b in iter)) and all(abs(a-b)<=3 for a,b in iter):\n",
    "                safe += 1\n",
    "\n",
    "        if safe >= 1:\n",
    "            safe_count += 1\n",
    "\n",
    "print(safe_count)"
   ]
  },
  {
   "cell_type": "markdown",
   "metadata": {},
   "source": [
    "### Day 3 ###"
   ]
  },
  {
   "cell_type": "code",
   "execution_count": 10,
   "metadata": {},
   "outputs": [
    {
     "name": "stdout",
     "output_type": "stream",
     "text": [
      "179834255\n"
     ]
    }
   ],
   "source": [
    "import re\n",
    "\n",
    "mul_sum = 0\n",
    "global_matches = []\n",
    "\n",
    "with open(join(cwd, \"inputs/input_3.txt\")) as file:\n",
    "    for line in file:\n",
    "        matches = re.findall(r'mul\\(\\d+,\\d+\\)', line)\n",
    "        global_matches += matches\n",
    "\n",
    "for match in global_matches:\n",
    "    operands = match.split('(')[1].split(')')[0].split(',')\n",
    "    mul_sum += int(operands[0]) * int(operands[1])\n",
    "\n",
    "print(mul_sum)"
   ]
  },
  {
   "cell_type": "code",
   "execution_count": 11,
   "metadata": {},
   "outputs": [
    {
     "name": "stdout",
     "output_type": "stream",
     "text": [
      "80570939\n"
     ]
    }
   ],
   "source": [
    "import re\n",
    "\n",
    "mul_sum = 0\n",
    "global_matches = []\n",
    "toggle_on = True\n",
    "\n",
    "with open(join(cwd, \"inputs/input_3.txt\")) as file:\n",
    "    for line in file:\n",
    "        toggle_on_pat = re.compile(r'do\\(\\)')\n",
    "        toggle_off_pat = re.compile(r'don\\'t\\(\\)')\n",
    "        mul_pat = re.compile(r'mul\\(\\d+,\\d+\\)')\n",
    "        \n",
    "        for i in range(len(line)):\n",
    "            for j in range(i + 1, len(line) + 1):\n",
    "                window = line[i:j]\n",
    "                if toggle_on_pat.fullmatch(window):\n",
    "                    toggle_on = True\n",
    "                elif toggle_off_pat.fullmatch(window):\n",
    "                    toggle_on = False\n",
    "                if toggle_on and mul_pat.fullmatch(window):\n",
    "                    global_matches.append(window)\n",
    "\n",
    "for match in global_matches:\n",
    "    operands = match.split('(')[1].split(')')[0].split(',')\n",
    "    mul_sum += int(operands[0]) * int(operands[1])\n",
    "\n",
    "print(mul_sum)"
   ]
  },
  {
   "cell_type": "markdown",
   "metadata": {},
   "source": [
    "### Day 4"
   ]
  },
  {
   "cell_type": "code",
   "execution_count": 12,
   "metadata": {},
   "outputs": [
    {
     "name": "stdout",
     "output_type": "stream",
     "text": [
      "2644\n"
     ]
    }
   ],
   "source": [
    "word_search = []\n",
    "xmas_counter = 0\n",
    "\n",
    "with open(join(cwd, \"inputs/input_4.txt\")) as file:\n",
    "    for line in file:\n",
    "        line = line.strip()\n",
    "        word_search.append(line)\n",
    "\n",
    "length = len(word_search)\n",
    "for i in range(length):\n",
    "    for j in range(length):\n",
    "        if word_search[i][j] == 'X':\n",
    "            #straight\n",
    "            if j < length - 3:\n",
    "                if word_search[i][j+1] == 'M'and word_search[i][j+2] == 'A' and word_search[i][j+3] == 'S': xmas_counter+=1\n",
    "            if j > 2:    \n",
    "                if word_search[i][j-1] == 'M' and word_search[i][j-2] == 'A' and word_search[i][j-3] == 'S': xmas_counter+=1\n",
    "            if i < length - 3:    \n",
    "                if word_search[i+1][j] == 'M' and word_search[i+2][j] == 'A' and word_search[i+3][j] == 'S': xmas_counter+=1\n",
    "            if i > 2:      \n",
    "                if word_search[i-1][j] == 'M' and word_search[i-2][j] == 'A' and word_search[i-3][j] == 'S': xmas_counter+=1 \n",
    "\n",
    "            #diagonal\n",
    "            if i < length - 3 and j < length - 3:\n",
    "                if word_search[i+1][j+1] == 'M' and word_search[i+2][j+2] == 'A' and word_search[i+3][j+3] == 'S': xmas_counter+=1\n",
    "            if i < length - 3 and j > 2:\n",
    "                if word_search[i+1][j-1] == 'M' and word_search[i+2][j-2] == 'A' and word_search[i+3][j-3] == 'S': xmas_counter+=1\n",
    "            if i > 2 and j < length - 3:    \n",
    "                if word_search[i-1][j+1] == 'M' and word_search[i-2][j+2] == 'A' and word_search[i-3][j+3] == 'S': xmas_counter+=1\n",
    "            if i > 2 and j > 2:    \n",
    "                if word_search[i-1][j-1] == 'M' and word_search[i-2][j-2] == 'A' and word_search[i-3][j-3] == 'S': xmas_counter+=1\n",
    "\n",
    "print(xmas_counter)"
   ]
  },
  {
   "cell_type": "code",
   "execution_count": 13,
   "metadata": {},
   "outputs": [
    {
     "name": "stdout",
     "output_type": "stream",
     "text": [
      "1952\n"
     ]
    }
   ],
   "source": [
    "x_mas_counter = 0\n",
    "\n",
    "for i in range(len(word_search)):\n",
    "    for j in range(len(word_search[0])):\n",
    "        if(i != 0 and i != len(word_search)-1 and j != 0 and j != len(word_search)-1):\n",
    "            if word_search[i][j] == \"A\":\n",
    "                if word_search[i+1][j+1] == \"M\" and word_search[i+1][j-1] == \"M\" and word_search[i-1][j+1] == \"S\" and word_search[i-1][j-1] == \"S\": x_mas_counter+=1\n",
    "                if word_search[i+1][j+1] == \"M\" and word_search[i+1][j-1] == \"S\" and word_search[i-1][j+1] == \"M\" and word_search[i-1][j-1] == \"S\": x_mas_counter+=1\n",
    "                if word_search[i+1][j+1] == \"S\" and word_search[i+1][j-1] == \"M\" and word_search[i-1][j+1] == \"S\" and word_search[i-1][j-1] == \"M\": x_mas_counter+=1\n",
    "                if word_search[i+1][j+1] == \"S\" and word_search[i+1][j-1] == \"S\" and word_search[i-1][j+1] == \"M\" and word_search[i-1][j-1] == \"M\": x_mas_counter+=1\n",
    "\n",
    "print(x_mas_counter)"
   ]
  },
  {
   "cell_type": "markdown",
   "metadata": {},
   "source": [
    "### Day 5"
   ]
  },
  {
   "cell_type": "code",
   "execution_count": 14,
   "metadata": {},
   "outputs": [
    {
     "name": "stdout",
     "output_type": "stream",
     "text": [
      "6498\n"
     ]
    }
   ],
   "source": [
    "rules = []\n",
    "updates = []\n",
    "\n",
    "with open(join(cwd, \"inputs/input_5.txt\")) as file:\n",
    "    rules_updates = file.read().split(\"\\n\\n\")\n",
    "    for line in rules_updates[0].split(\"\\n\"):\n",
    "        line = line.strip().split(\"|\")\n",
    "        rules.append((int(line[0]), int(line[1])))\n",
    "    for line in rules_updates[1].split(\"\\n\"):\n",
    "        line = line.strip().split(\",\")\n",
    "        updates.append(list([int(x) for x in line]))\n",
    "    \n",
    "\n",
    "result = 0\n",
    "\n",
    "# Used for part 2\n",
    "false_updates = []\n",
    "\n",
    "for update in updates:\n",
    "    valid = True\n",
    "    \n",
    "    for rule in rules:\n",
    "        if rule[0] in update and rule[1] in update and update.index(rule[0]) > update.index(rule[1]): \n",
    "            valid = False\n",
    "            false_updates.append(update)\n",
    "            break\n",
    "\n",
    "    if valid:\n",
    "        result += update[int((len(update)-1)/2)]\n",
    "\n",
    "print(result)"
   ]
  },
  {
   "cell_type": "code",
   "execution_count": 15,
   "metadata": {},
   "outputs": [
    {
     "name": "stdout",
     "output_type": "stream",
     "text": [
      "5017\n"
     ]
    }
   ],
   "source": [
    "result = 0\n",
    "\n",
    "for update in false_updates:\n",
    "    valid = False\n",
    "    while(not valid):\n",
    "        valid = True\n",
    "        for i in range(len(update)):\n",
    "            for j in range(i+1, len(update)):\n",
    "                if i == len(update):\n",
    "                    break\n",
    "                else:\n",
    "                    if (update[j], update[i]) in rules:\n",
    "                        update[i], update[j] = update[j], update[i]\n",
    "                        valid = False\n",
    "                        break \n",
    "            \n",
    "    result += update[int((len(update)-1)/2)]\n",
    "\n",
    "print(result)"
   ]
  },
  {
   "cell_type": "markdown",
   "metadata": {},
   "source": [
    "### Day 6"
   ]
  },
  {
   "cell_type": "code",
   "execution_count": 16,
   "metadata": {},
   "outputs": [
    {
     "name": "stdout",
     "output_type": "stream",
     "text": [
      "5305\n"
     ]
    }
   ],
   "source": [
    "grid = []\n",
    "\n",
    "with open(join(cwd, \"inputs/input_6.txt\")) as file:\n",
    "    for line in file:\n",
    "        grid.append(list(line.strip()))\n",
    "\n",
    "def getNewDirection(direction):\n",
    "    if direction == (0,-1):\n",
    "        return (1,0)\n",
    "    if direction == (1,0):\n",
    "        return (0, 1)\n",
    "    if direction == (0,1):\n",
    "        return (-1,0)\n",
    "    if direction == (-1,0):\n",
    "        return (0,-1)\n",
    "    \n",
    "    \n",
    "\n",
    "dir = (0,-1)\n",
    "pos_y = grid.index([x for x in grid if \"^\" in x][0])\n",
    "pos_x = grid[pos_y].index(\"^\")\n",
    "\n",
    "visited = set([(pos_x, pos_y)])\n",
    "\n",
    "while(True):\n",
    "    # Guard exits the grid\n",
    "    if(pos_y+dir[1] < 0 or pos_y+dir[1] >= len(grid) or pos_x+dir[0] < 0 or pos_x+dir[0] >= len(grid[0])):\n",
    "        break\n",
    "    \n",
    "    # Guard hits a barrel\n",
    "    if(grid[pos_y+dir[1]][pos_x+dir[0]] == \"#\"):\n",
    "        dir = getNewDirection(dir)\n",
    "        continue\n",
    "    \n",
    "    # Guard moves\n",
    "    pos_x += dir[0]\n",
    "    pos_y += dir[1]\n",
    "    visited.add((pos_x, pos_y))\n",
    "\n",
    "print(len(visited))"
   ]
  },
  {
   "cell_type": "code",
   "execution_count": 17,
   "metadata": {},
   "outputs": [
    {
     "name": "stdout",
     "output_type": "stream",
     "text": [
      "2142\n"
     ]
    }
   ],
   "source": [
    "loops = 0\n",
    "\n",
    "for point in list(visited)[1:]:\n",
    "    grid[point[1]][point[0]] = \"#\"\n",
    "    dir = (0,-1)\n",
    "    pos_y = 49\n",
    "    pos_x = 39\n",
    "\n",
    "    visit = set()\n",
    "\n",
    "    while(True):\n",
    "        # Guard exits the grid\n",
    "        if(pos_y+dir[1] < 0 or pos_y+dir[1] >= len(grid) or pos_x+dir[0] < 0 or pos_x+dir[0] >= len(grid[0])):\n",
    "            break\n",
    "                \n",
    "        # Guard hits a barrel\n",
    "        if(grid[pos_y+dir[1]][pos_x+dir[0]] == \"#\"):\n",
    "            dir = getNewDirection(dir)\n",
    "            continue\n",
    "                \n",
    "        # Guard moves\n",
    "        pos_x += dir[0]\n",
    "        pos_y += dir[1]\n",
    "        if((pos_x, pos_y, dir) in visit):\n",
    "            loops += 1\n",
    "            break\n",
    "        visit.add((pos_x, pos_y, dir))\n",
    "\n",
    "    grid[point[1]][point[0]] = \".\"\n",
    "\n",
    "\n",
    "print(loops)"
   ]
  },
  {
   "cell_type": "markdown",
   "metadata": {},
   "source": [
    "### Day 7"
   ]
  },
  {
   "cell_type": "code",
   "execution_count": 18,
   "metadata": {},
   "outputs": [
    {
     "name": "stdout",
     "output_type": "stream",
     "text": [
      "4122618559853\n"
     ]
    }
   ],
   "source": [
    "from itertools import product\n",
    "\n",
    "test_values = []\n",
    "numbers = []\n",
    "\n",
    "with open(join(cwd, \"inputs/input_7.txt\")) as file:\n",
    "    for line in file:\n",
    "        t = line.strip().split(\":\")\n",
    "        test_values.append(int(t[0]))\n",
    "        numbers.append([int(x) for x in t[1].strip().split(\" \")])\n",
    "\n",
    "result = 0\n",
    "operators = ['+', '*']\n",
    "\n",
    "for i in range(len(numbers)):\n",
    "    for ops in product(operators, repeat=len(numbers[i]) - 1):\n",
    "        value = numbers[i][0]\n",
    "        for index, op in enumerate(ops):\n",
    "            if op == '+':\n",
    "                value += numbers[i][index+1]\n",
    "            elif op == '*':\n",
    "                value *= numbers[i][index+1]\n",
    "        if(value == test_values[i]):\n",
    "            result += value\n",
    "            break \n",
    "\n",
    "print(result)"
   ]
  },
  {
   "cell_type": "code",
   "execution_count": 19,
   "metadata": {},
   "outputs": [
    {
     "name": "stdout",
     "output_type": "stream",
     "text": [
      "227615740238334\n"
     ]
    }
   ],
   "source": [
    "result = 0\n",
    "operators = ['+', '*', '||']\n",
    "\n",
    "for i in range(len(numbers)):\n",
    "    for ops in product(operators, repeat=len(numbers[i]) - 1):\n",
    "        value = numbers[i][0]\n",
    "        for index, op in enumerate(ops):\n",
    "            if op == '+':\n",
    "                value += numbers[i][index+1]\n",
    "            elif op == '*':\n",
    "                value *= numbers[i][index+1]\n",
    "            elif op == '||':\n",
    "                value = int(str(value) + str(numbers[i][index+1]))\n",
    "        if(value == test_values[i]):\n",
    "            result += value\n",
    "            break \n",
    "\n",
    "print(result)"
   ]
  },
  {
   "cell_type": "markdown",
   "metadata": {},
   "source": [
    "### Day 8"
   ]
  },
  {
   "cell_type": "code",
   "execution_count": null,
   "metadata": {},
   "outputs": [
    {
     "name": "stdout",
     "output_type": "stream",
     "text": [
      "305\n"
     ]
    }
   ],
   "source": [
    "import re\n",
    "import itertools\n",
    "\n",
    "grid = []\n",
    "\n",
    "with open(join(cwd, \"inputs/input_8.txt\")) as file:\n",
    "    for line in file:\n",
    "        grid.append(list(line.strip()))\n",
    "\n",
    "# Make a dictionary nodeName:[list of positions on the grid]\n",
    "node_pos_dict = {}\n",
    "node_pat = re.compile(r'[0-9a-zA-Z]')\n",
    "\n",
    "for y in range(len(grid)):\n",
    "    for x in range(len(grid[0])):\n",
    "        node = grid[y][x]\n",
    "        if node_pat.fullmatch(node):\n",
    "            if node in node_pos_dict.keys():\n",
    "                node_pos_dict[node] += [(x,y)]\n",
    "            else:\n",
    "                node_pos_dict[node] = [(x,y)] \n",
    "\n",
    "antinodes = set()\n",
    "\n",
    "def inbounds(node):\n",
    "    if node[0] < 0 or node[1] < 0 or node[0] >= len(grid[0]) or node[1] >= len(grid):\n",
    "        return False\n",
    "    else:\n",
    "        return True\n",
    "\n",
    "for node_type in node_pos_dict:\n",
    "    for node_combo in itertools.combinations(node_pos_dict[node_type], 2):\n",
    "        \n",
    "        antinode1 = (2*node_combo[0][0] - node_combo[1][0], 2*node_combo[0][1] - node_combo[1][1]) \n",
    "        antinode2 = (2*node_combo[1][0] - node_combo[0][0], 2*node_combo[1][1] - node_combo[0][1])\n",
    "\n",
    "        if inbounds(antinode1):\n",
    "            antinodes.add(antinode1)\n",
    "        if inbounds(antinode2):\n",
    "            antinodes.add(antinode2)\n",
    "\n",
    "\n",
    "print(len(antinodes))"
   ]
  },
  {
   "cell_type": "code",
   "execution_count": 37,
   "metadata": {},
   "outputs": [
    {
     "name": "stdout",
     "output_type": "stream",
     "text": [
      "1150\n"
     ]
    }
   ],
   "source": [
    "antinodes = set()\n",
    "\n",
    "for node_type in node_pos_dict:\n",
    "    for node_combo in itertools.combinations(node_pos_dict[node_type], 2):\n",
    "        \n",
    "        antenna1 = node_combo[0]\n",
    "        antenna2 = node_combo[1]\n",
    "        \n",
    "        dx1, dy1 = node_combo[0][0] - node_combo[1][0], node_combo[0][1] - node_combo[1][1]\n",
    "        dx2, dy2 = node_combo[1][0] - node_combo[0][0], node_combo[1][1] - node_combo[0][1]\n",
    "        \n",
    "        while(inbounds(antenna1)):\n",
    "            antinodes.add(antenna1)\n",
    "            antenna1 = (antenna1[0] + dx1, antenna1[1] + dy1)\n",
    "            \n",
    "\n",
    "        while(inbounds(antenna2)):\n",
    "            antinodes.add(antenna2)\n",
    "            antenna2 = (antenna2[0] + dx2, antenna2[1] + dy2)\n",
    "        \n",
    "print(len(antinodes))\n",
    "        "
   ]
  },
  {
   "cell_type": "markdown",
   "metadata": {},
   "source": [
    "### Day 9"
   ]
  },
  {
   "cell_type": "code",
   "execution_count": 37,
   "metadata": {},
   "outputs": [
    {
     "name": "stdout",
     "output_type": "stream",
     "text": [
      "6279058075753\n"
     ]
    }
   ],
   "source": [
    "data = 0\n",
    "\n",
    "with open(join(cwd, \"inputs/input_9.txt\")) as file:\n",
    "    data = file.readline().strip()\n",
    "\n",
    "disk = []\n",
    "file_Id = 0\n",
    "for i in range(len(data)):\n",
    "    if i%2 == 0:\n",
    "        for block in range(int(data[i])):\n",
    "            disk.append(file_Id)\n",
    "        file_Id += 1\n",
    "    else:\n",
    "        for block in range(int(data[i])):\n",
    "            disk.append(\".\")\n",
    "\n",
    "left = 0\n",
    "right = len(disk) - 1\n",
    "while (left != right):\n",
    "    if(disk[left] != \".\"):\n",
    "        left +=1\n",
    "        continue\n",
    "    if(disk[right] == \".\"):\n",
    "        right -= 1\n",
    "        continue\n",
    "    \n",
    "    disk[left], disk[right] = disk[right], disk[left]\n",
    "\n",
    "checksum = 0\n",
    "for i in range(len(disk)):\n",
    "    if disk[i] == \".\":\n",
    "        break\n",
    "    checksum += disk[i]*i\n",
    "\n",
    "print(checksum)"
   ]
  },
  {
   "cell_type": "code",
   "execution_count": null,
   "metadata": {},
   "outputs": [
    {
     "name": "stdout",
     "output_type": "stream",
     "text": [
      "6301361958738\n"
     ]
    }
   ],
   "source": [
    "# [(fileId, start, length)]\n",
    "files = []\n",
    "# [(start, length)]\n",
    "spaces = []\n",
    "\n",
    "file_Id = 0\n",
    "block_start = 0\n",
    "\n",
    "for i in range(len(data)):\n",
    "    block_len = int(data[i])\n",
    "    if i%2 == 0:\n",
    "        files.append((file_Id, block_start, block_len))\n",
    "        file_Id += 1\n",
    "        block_start += block_len\n",
    "    else:\n",
    "        spaces.append((block_start, block_len))\n",
    "        block_start += block_len\n",
    "\n",
    "checksum = 0\n",
    "files.reverse()\n",
    "for f in range(len(files)):\n",
    "    for s in range(len(spaces)):\n",
    "        if files[f][2] <= spaces[s][1] and spaces[s][0] < files[f][1]:\n",
    "            files[f] = (files[f][0], spaces[s][0], files[f][2])\n",
    "            spaces[s] = (spaces[s][0] + files[f][2], spaces[s][1] - files[f][2])\n",
    "            break\n",
    "    for i in range(files[f][2]):\n",
    "        checksum += files[f][0] * (files[f][1] + i)        \n",
    "print(checksum)\n",
    "    "
   ]
  },
  {
   "cell_type": "markdown",
   "metadata": {},
   "source": [
    "### Day 10"
   ]
  },
  {
   "cell_type": "code",
   "execution_count": null,
   "metadata": {},
   "outputs": [
    {
     "name": "stdout",
     "output_type": "stream",
     "text": [
      "472\n"
     ]
    }
   ],
   "source": [
    "topmap = []\n",
    "\n",
    "with open(join(cwd, \"inputs/input_10.txt\")) as file:\n",
    "    for line in file:\n",
    "        topmap.append([int(x) for x in list(line.strip())])\n",
    "\n",
    "def count_nines(start):\n",
    "    nines = set()\n",
    "    def traverse(x, y, current_value):\n",
    "        nonlocal nines\n",
    "        if x < 0 or y < 0 or x >= len(topmap[0]) or y >= len(topmap):\n",
    "            return\n",
    "        if topmap[y][x] != current_value:\n",
    "            return\n",
    "        if current_value == 9:\n",
    "            nines.add((x,y))\n",
    "            return\n",
    "        for dx, dy in [(-1, 0), (1, 0), (0, -1), (0, 1)]:\n",
    "            traverse(x + dx, y + dy, current_value + 1)\n",
    "    \n",
    "    start_x, start_y = start\n",
    "    traverse(start_x, start_y, 0)\n",
    "    return len(nines)\n",
    "\n",
    "result = 0\n",
    "for y in range(len(topmap)):\n",
    "    for x in range(len(topmap[0])):\n",
    "        if topmap[y][x] == 0:\n",
    "           result += count_nines((x, y))\n",
    "print(result) "
   ]
  },
  {
   "cell_type": "code",
   "execution_count": null,
   "metadata": {},
   "outputs": [
    {
     "name": "stdout",
     "output_type": "stream",
     "text": [
      "969\n"
     ]
    }
   ],
   "source": [
    "def find_paths(start):\n",
    "    paths = []\n",
    "    def traverse(x, y, current_path, current_value):\n",
    "        if x < 0 or y < 0 or x >= len(topmap[0]) or y >= len(topmap):\n",
    "            return\n",
    "        if (x, y) in current_path:\n",
    "            return\n",
    "        if topmap[y][x] != current_value:\n",
    "            return\n",
    "        current_path.append((x, y))\n",
    "        if current_value == 9:\n",
    "            paths.append(list(current_path))\n",
    "            current_path.pop()\n",
    "            return\n",
    "        for dx, dy in [(-1, 0), (1, 0), (0, -1), (0, 1)]:\n",
    "            traverse(x + dx, y + dy, current_path, current_value + 1)\n",
    "        current_path.pop()\n",
    "    \n",
    "    start_x, start_y = start\n",
    "    traverse(start_x, start_y, [], 0)\n",
    "    return paths\n",
    "\n",
    "result = 0\n",
    "for y in range(len(topmap)):\n",
    "    for x in range(len(topmap[0])):\n",
    "        if topmap[y][x] == 0:\n",
    "           result += len(find_paths((x, y)))\n",
    "print(result) "
   ]
  },
  {
   "cell_type": "markdown",
   "metadata": {},
   "source": [
    "### Day 11"
   ]
  },
  {
   "cell_type": "code",
   "execution_count": null,
   "metadata": {},
   "outputs": [],
   "source": []
  },
  {
   "cell_type": "code",
   "execution_count": null,
   "metadata": {},
   "outputs": [],
   "source": []
  },
  {
   "cell_type": "markdown",
   "metadata": {},
   "source": [
    "### Day 12"
   ]
  },
  {
   "cell_type": "code",
   "execution_count": null,
   "metadata": {},
   "outputs": [],
   "source": []
  },
  {
   "cell_type": "code",
   "execution_count": null,
   "metadata": {},
   "outputs": [],
   "source": []
  },
  {
   "cell_type": "markdown",
   "metadata": {},
   "source": [
    "### Day 13"
   ]
  },
  {
   "cell_type": "code",
   "execution_count": null,
   "metadata": {},
   "outputs": [],
   "source": []
  },
  {
   "cell_type": "code",
   "execution_count": null,
   "metadata": {},
   "outputs": [],
   "source": []
  },
  {
   "cell_type": "markdown",
   "metadata": {},
   "source": [
    "### Day 14"
   ]
  },
  {
   "cell_type": "code",
   "execution_count": null,
   "metadata": {},
   "outputs": [],
   "source": []
  },
  {
   "cell_type": "code",
   "execution_count": null,
   "metadata": {},
   "outputs": [],
   "source": []
  },
  {
   "cell_type": "markdown",
   "metadata": {},
   "source": [
    "### Day 15"
   ]
  },
  {
   "cell_type": "code",
   "execution_count": null,
   "metadata": {},
   "outputs": [],
   "source": []
  },
  {
   "cell_type": "code",
   "execution_count": null,
   "metadata": {},
   "outputs": [],
   "source": []
  },
  {
   "cell_type": "markdown",
   "metadata": {},
   "source": [
    "### Day 16"
   ]
  },
  {
   "cell_type": "code",
   "execution_count": null,
   "metadata": {},
   "outputs": [],
   "source": []
  },
  {
   "cell_type": "code",
   "execution_count": null,
   "metadata": {},
   "outputs": [],
   "source": []
  },
  {
   "cell_type": "markdown",
   "metadata": {},
   "source": [
    "### Day 17"
   ]
  },
  {
   "cell_type": "code",
   "execution_count": null,
   "metadata": {},
   "outputs": [],
   "source": []
  },
  {
   "cell_type": "code",
   "execution_count": null,
   "metadata": {},
   "outputs": [],
   "source": []
  },
  {
   "cell_type": "markdown",
   "metadata": {},
   "source": [
    "### Day 18"
   ]
  },
  {
   "cell_type": "code",
   "execution_count": null,
   "metadata": {},
   "outputs": [],
   "source": []
  },
  {
   "cell_type": "code",
   "execution_count": null,
   "metadata": {},
   "outputs": [],
   "source": []
  },
  {
   "cell_type": "markdown",
   "metadata": {},
   "source": [
    "### Day 19"
   ]
  },
  {
   "cell_type": "code",
   "execution_count": null,
   "metadata": {},
   "outputs": [],
   "source": []
  },
  {
   "cell_type": "code",
   "execution_count": null,
   "metadata": {},
   "outputs": [],
   "source": []
  },
  {
   "cell_type": "markdown",
   "metadata": {},
   "source": [
    "### Day 20"
   ]
  },
  {
   "cell_type": "code",
   "execution_count": null,
   "metadata": {},
   "outputs": [],
   "source": []
  },
  {
   "cell_type": "code",
   "execution_count": null,
   "metadata": {},
   "outputs": [],
   "source": []
  },
  {
   "cell_type": "markdown",
   "metadata": {},
   "source": [
    "### Day 21"
   ]
  },
  {
   "cell_type": "code",
   "execution_count": null,
   "metadata": {},
   "outputs": [],
   "source": []
  },
  {
   "cell_type": "code",
   "execution_count": null,
   "metadata": {},
   "outputs": [],
   "source": []
  },
  {
   "cell_type": "markdown",
   "metadata": {},
   "source": [
    "### Day 22"
   ]
  },
  {
   "cell_type": "code",
   "execution_count": null,
   "metadata": {},
   "outputs": [],
   "source": []
  },
  {
   "cell_type": "code",
   "execution_count": null,
   "metadata": {},
   "outputs": [],
   "source": []
  },
  {
   "cell_type": "markdown",
   "metadata": {},
   "source": [
    "### Day 23"
   ]
  },
  {
   "cell_type": "code",
   "execution_count": null,
   "metadata": {},
   "outputs": [],
   "source": []
  },
  {
   "cell_type": "code",
   "execution_count": null,
   "metadata": {},
   "outputs": [],
   "source": []
  },
  {
   "cell_type": "markdown",
   "metadata": {},
   "source": [
    "### Day 24"
   ]
  },
  {
   "cell_type": "code",
   "execution_count": null,
   "metadata": {},
   "outputs": [],
   "source": []
  },
  {
   "cell_type": "code",
   "execution_count": null,
   "metadata": {},
   "outputs": [],
   "source": []
  },
  {
   "cell_type": "markdown",
   "metadata": {},
   "source": [
    "### Day 25"
   ]
  },
  {
   "cell_type": "code",
   "execution_count": null,
   "metadata": {},
   "outputs": [],
   "source": []
  },
  {
   "cell_type": "code",
   "execution_count": null,
   "metadata": {},
   "outputs": [],
   "source": []
  }
 ],
 "metadata": {
  "kernelspec": {
   "display_name": "Python 3",
   "language": "python",
   "name": "python3"
  },
  "language_info": {
   "codemirror_mode": {
    "name": "ipython",
    "version": 3
   },
   "file_extension": ".py",
   "mimetype": "text/x-python",
   "name": "python",
   "nbconvert_exporter": "python",
   "pygments_lexer": "ipython3",
   "version": "3.12.4"
  }
 },
 "nbformat": 4,
 "nbformat_minor": 2
}
