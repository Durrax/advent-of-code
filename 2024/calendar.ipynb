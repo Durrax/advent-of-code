{
 "cells": [
  {
   "cell_type": "markdown",
   "metadata": {},
   "source": [
    "### Setup"
   ]
  },
  {
   "cell_type": "code",
   "execution_count": 4,
   "metadata": {},
   "outputs": [],
   "source": [
    "from os.path import join\n",
    "\n",
    "from pathlib import Path\n",
    "cwd = Path.cwd()"
   ]
  },
  {
   "cell_type": "markdown",
   "metadata": {},
   "source": [
    "### Day 1"
   ]
  },
  {
   "cell_type": "code",
   "execution_count": 5,
   "metadata": {},
   "outputs": [
    {
     "name": "stdout",
     "output_type": "stream",
     "text": [
      "1722302\n"
     ]
    }
   ],
   "source": [
    "from operator import sub, abs\n",
    "\n",
    "list1 = []\n",
    "list2 = []\n",
    "\n",
    "with open(join(cwd, \"inputs/input_1.txt\")) as file:\n",
    "    for line in file:\n",
    "        line = line.strip().split(\"   \")\n",
    "        list1.append(int(line[0]))\n",
    "        list2.append(int(line[1]))\n",
    "\n",
    "list1.sort()\n",
    "list2.sort()\n",
    "\n",
    "dif = [*map(sub, list2, list1)]\n",
    "dif = [*map(abs, dif)]\n",
    "\n",
    "\n",
    "result = sum(dif)\n",
    "\n",
    "print(result)"
   ]
  },
  {
   "cell_type": "code",
   "execution_count": 6,
   "metadata": {},
   "outputs": [
    {
     "name": "stdout",
     "output_type": "stream",
     "text": [
      "20373490\n"
     ]
    }
   ],
   "source": [
    "sim_score = 0\n",
    "\n",
    "for elemL in list1:\n",
    "    count = 0\n",
    "    for elemR in list2:\n",
    "        if elemL == elemR:\n",
    "            count += 1\n",
    "    sim_score += elemL * count\n",
    "\n",
    "print(sim_score)"
   ]
  },
  {
   "cell_type": "markdown",
   "metadata": {},
   "source": [
    "### Day 2"
   ]
  },
  {
   "cell_type": "code",
   "execution_count": 7,
   "metadata": {},
   "outputs": [
    {
     "name": "stdout",
     "output_type": "stream",
     "text": [
      "411\n"
     ]
    }
   ],
   "source": [
    "safe_count = 0\n",
    "\n",
    "with open(join(cwd, \"inputs/input_2.txt\")) as file:\n",
    "    for line in file:\n",
    "        report = line.strip().split(\" \")\n",
    "        report = [int(x) for x in report]\n",
    "        \n",
    "        iter = [*zip(report, report[1:])]\n",
    "        if (all(a<b for a,b in iter) or all(a>b for a,b in iter)) and all(abs(a-b)<=3 for a,b in iter):\n",
    "            safe_count += 1\n",
    "        \n",
    "print(safe_count)"
   ]
  },
  {
   "cell_type": "code",
   "execution_count": 8,
   "metadata": {},
   "outputs": [
    {
     "name": "stdout",
     "output_type": "stream",
     "text": [
      "465\n"
     ]
    }
   ],
   "source": [
    "safe_count = 0\n",
    "\n",
    "with open(join(cwd, \"inputs/input_2.txt\")) as file:\n",
    "    for line in file:\n",
    "        report = line.strip().split(\" \")\n",
    "        report = [int(x) for x in report]\n",
    "        \n",
    "        safe = 0\n",
    "        for i in range(len(report)):\n",
    "            report_one_less = [x[1] for x in enumerate(report) if x[0] != i]\n",
    "            iter = [*zip(report_one_less, report_one_less[1:])]\n",
    "            if (all(a<b for a,b in iter) or all(a>b for a,b in iter)) and all(abs(a-b)<=3 for a,b in iter):\n",
    "                safe += 1\n",
    "\n",
    "        if safe >= 1:\n",
    "            safe_count += 1\n",
    "\n",
    "print(safe_count)"
   ]
  },
  {
   "cell_type": "markdown",
   "metadata": {},
   "source": [
    "### Day 3 ###"
   ]
  },
  {
   "cell_type": "code",
   "execution_count": 10,
   "metadata": {},
   "outputs": [
    {
     "name": "stdout",
     "output_type": "stream",
     "text": [
      "179834255\n"
     ]
    }
   ],
   "source": [
    "import re\n",
    "\n",
    "mul_sum = 0\n",
    "global_matches = []\n",
    "\n",
    "with open(join(cwd, \"inputs/input_3.txt\")) as file:\n",
    "    for line in file:\n",
    "        matches = re.findall(r'mul\\(\\d+,\\d+\\)', line)\n",
    "        global_matches += matches\n",
    "\n",
    "for match in global_matches:\n",
    "    operands = match.split('(')[1].split(')')[0].split(',')\n",
    "    mul_sum += int(operands[0]) * int(operands[1])\n",
    "\n",
    "print(mul_sum)"
   ]
  },
  {
   "cell_type": "code",
   "execution_count": 11,
   "metadata": {},
   "outputs": [
    {
     "name": "stdout",
     "output_type": "stream",
     "text": [
      "80570939\n"
     ]
    }
   ],
   "source": [
    "import re\n",
    "\n",
    "mul_sum = 0\n",
    "global_matches = []\n",
    "toggle_on = True\n",
    "\n",
    "with open(join(cwd, \"inputs/input_3.txt\")) as file:\n",
    "    for line in file:\n",
    "        toggle_on_pat = re.compile(r'do\\(\\)')\n",
    "        toggle_off_pat = re.compile(r'don\\'t\\(\\)')\n",
    "        mul_pat = re.compile(r'mul\\(\\d+,\\d+\\)')\n",
    "        \n",
    "        for i in range(len(line)):\n",
    "            for j in range(i + 1, len(line) + 1):\n",
    "                window = line[i:j]\n",
    "                if toggle_on_pat.fullmatch(window):\n",
    "                    toggle_on = True\n",
    "                elif toggle_off_pat.fullmatch(window):\n",
    "                    toggle_on = False\n",
    "                if toggle_on and mul_pat.fullmatch(window):\n",
    "                    global_matches.append(window)\n",
    "\n",
    "for match in global_matches:\n",
    "    operands = match.split('(')[1].split(')')[0].split(',')\n",
    "    mul_sum += int(operands[0]) * int(operands[1])\n",
    "\n",
    "print(mul_sum)"
   ]
  },
  {
   "cell_type": "markdown",
   "metadata": {},
   "source": [
    "### Day 4"
   ]
  },
  {
   "cell_type": "code",
   "execution_count": 12,
   "metadata": {},
   "outputs": [
    {
     "name": "stdout",
     "output_type": "stream",
     "text": [
      "2644\n"
     ]
    }
   ],
   "source": [
    "word_search = []\n",
    "xmas_counter = 0\n",
    "\n",
    "with open(join(cwd, \"inputs/input_4.txt\")) as file:\n",
    "    for line in file:\n",
    "        line = line.strip()\n",
    "        word_search.append(line)\n",
    "\n",
    "length = len(word_search)\n",
    "for i in range(length):\n",
    "    for j in range(length):\n",
    "        if word_search[i][j] == 'X':\n",
    "            #straight\n",
    "            if j < length - 3:\n",
    "                if word_search[i][j+1] == 'M'and word_search[i][j+2] == 'A' and word_search[i][j+3] == 'S': xmas_counter+=1\n",
    "            if j > 2:    \n",
    "                if word_search[i][j-1] == 'M' and word_search[i][j-2] == 'A' and word_search[i][j-3] == 'S': xmas_counter+=1\n",
    "            if i < length - 3:    \n",
    "                if word_search[i+1][j] == 'M' and word_search[i+2][j] == 'A' and word_search[i+3][j] == 'S': xmas_counter+=1\n",
    "            if i > 2:      \n",
    "                if word_search[i-1][j] == 'M' and word_search[i-2][j] == 'A' and word_search[i-3][j] == 'S': xmas_counter+=1 \n",
    "\n",
    "            #diagonal\n",
    "            if i < length - 3 and j < length - 3:\n",
    "                if word_search[i+1][j+1] == 'M' and word_search[i+2][j+2] == 'A' and word_search[i+3][j+3] == 'S': xmas_counter+=1\n",
    "            if i < length - 3 and j > 2:\n",
    "                if word_search[i+1][j-1] == 'M' and word_search[i+2][j-2] == 'A' and word_search[i+3][j-3] == 'S': xmas_counter+=1\n",
    "            if i > 2 and j < length - 3:    \n",
    "                if word_search[i-1][j+1] == 'M' and word_search[i-2][j+2] == 'A' and word_search[i-3][j+3] == 'S': xmas_counter+=1\n",
    "            if i > 2 and j > 2:    \n",
    "                if word_search[i-1][j-1] == 'M' and word_search[i-2][j-2] == 'A' and word_search[i-3][j-3] == 'S': xmas_counter+=1\n",
    "\n",
    "print(xmas_counter)"
   ]
  },
  {
   "cell_type": "code",
   "execution_count": 13,
   "metadata": {},
   "outputs": [
    {
     "name": "stdout",
     "output_type": "stream",
     "text": [
      "1952\n"
     ]
    }
   ],
   "source": [
    "x_mas_counter = 0\n",
    "\n",
    "for i in range(len(word_search)):\n",
    "    for j in range(len(word_search[0])):\n",
    "        if(i != 0 and i != len(word_search)-1 and j != 0 and j != len(word_search)-1):\n",
    "            if word_search[i][j] == \"A\":\n",
    "                if word_search[i+1][j+1] == \"M\" and word_search[i+1][j-1] == \"M\" and word_search[i-1][j+1] == \"S\" and word_search[i-1][j-1] == \"S\": x_mas_counter+=1\n",
    "                if word_search[i+1][j+1] == \"M\" and word_search[i+1][j-1] == \"S\" and word_search[i-1][j+1] == \"M\" and word_search[i-1][j-1] == \"S\": x_mas_counter+=1\n",
    "                if word_search[i+1][j+1] == \"S\" and word_search[i+1][j-1] == \"M\" and word_search[i-1][j+1] == \"S\" and word_search[i-1][j-1] == \"M\": x_mas_counter+=1\n",
    "                if word_search[i+1][j+1] == \"S\" and word_search[i+1][j-1] == \"S\" and word_search[i-1][j+1] == \"M\" and word_search[i-1][j-1] == \"M\": x_mas_counter+=1\n",
    "\n",
    "print(x_mas_counter)"
   ]
  },
  {
   "cell_type": "markdown",
   "metadata": {},
   "source": [
    "### Day 5"
   ]
  },
  {
   "cell_type": "code",
   "execution_count": 14,
   "metadata": {},
   "outputs": [
    {
     "name": "stdout",
     "output_type": "stream",
     "text": [
      "6498\n"
     ]
    }
   ],
   "source": [
    "rules = []\n",
    "updates = []\n",
    "\n",
    "with open(join(cwd, \"inputs/input_5.txt\")) as file:\n",
    "    rules_updates = file.read().split(\"\\n\\n\")\n",
    "    for line in rules_updates[0].split(\"\\n\"):\n",
    "        line = line.strip().split(\"|\")\n",
    "        rules.append((int(line[0]), int(line[1])))\n",
    "    for line in rules_updates[1].split(\"\\n\"):\n",
    "        line = line.strip().split(\",\")\n",
    "        updates.append(list([int(x) for x in line]))\n",
    "    \n",
    "\n",
    "result = 0\n",
    "\n",
    "# Used for part 2\n",
    "false_updates = []\n",
    "\n",
    "for update in updates:\n",
    "    valid = True\n",
    "    \n",
    "    for rule in rules:\n",
    "        if rule[0] in update and rule[1] in update and update.index(rule[0]) > update.index(rule[1]): \n",
    "            valid = False\n",
    "            false_updates.append(update)\n",
    "            break\n",
    "\n",
    "    if valid:\n",
    "        result += update[int((len(update)-1)/2)]\n",
    "\n",
    "print(result)"
   ]
  },
  {
   "cell_type": "code",
   "execution_count": 15,
   "metadata": {},
   "outputs": [
    {
     "name": "stdout",
     "output_type": "stream",
     "text": [
      "5017\n"
     ]
    }
   ],
   "source": [
    "result = 0\n",
    "\n",
    "for update in false_updates:\n",
    "    valid = False\n",
    "    while(not valid):\n",
    "        valid = True\n",
    "        for i in range(len(update)):\n",
    "            for j in range(i+1, len(update)):\n",
    "                if i == len(update):\n",
    "                    break\n",
    "                else:\n",
    "                    if (update[j], update[i]) in rules:\n",
    "                        update[i], update[j] = update[j], update[i]\n",
    "                        valid = False\n",
    "                        break \n",
    "            \n",
    "    result += update[int((len(update)-1)/2)]\n",
    "\n",
    "print(result)"
   ]
  },
  {
   "cell_type": "markdown",
   "metadata": {},
   "source": [
    "### Day 6"
   ]
  },
  {
   "cell_type": "code",
   "execution_count": 16,
   "metadata": {},
   "outputs": [
    {
     "name": "stdout",
     "output_type": "stream",
     "text": [
      "5305\n"
     ]
    }
   ],
   "source": [
    "grid = []\n",
    "\n",
    "with open(join(cwd, \"inputs/input_6.txt\")) as file:\n",
    "    for line in file:\n",
    "        grid.append(list(line.strip()))\n",
    "\n",
    "def getNewDirection(direction):\n",
    "    if direction == (0,-1):\n",
    "        return (1,0)\n",
    "    if direction == (1,0):\n",
    "        return (0, 1)\n",
    "    if direction == (0,1):\n",
    "        return (-1,0)\n",
    "    if direction == (-1,0):\n",
    "        return (0,-1)\n",
    "    \n",
    "    \n",
    "\n",
    "dir = (0,-1)\n",
    "pos_y = grid.index([x for x in grid if \"^\" in x][0])\n",
    "pos_x = grid[pos_y].index(\"^\")\n",
    "\n",
    "visited = set([(pos_x, pos_y)])\n",
    "\n",
    "while(True):\n",
    "    # Guard exits the grid\n",
    "    if(pos_y+dir[1] < 0 or pos_y+dir[1] >= len(grid) or pos_x+dir[0] < 0 or pos_x+dir[0] >= len(grid[0])):\n",
    "        break\n",
    "    \n",
    "    # Guard hits a barrel\n",
    "    if(grid[pos_y+dir[1]][pos_x+dir[0]] == \"#\"):\n",
    "        dir = getNewDirection(dir)\n",
    "        continue\n",
    "    \n",
    "    # Guard moves\n",
    "    pos_x += dir[0]\n",
    "    pos_y += dir[1]\n",
    "    visited.add((pos_x, pos_y))\n",
    "\n",
    "print(len(visited))"
   ]
  },
  {
   "cell_type": "code",
   "execution_count": 17,
   "metadata": {},
   "outputs": [
    {
     "name": "stdout",
     "output_type": "stream",
     "text": [
      "2142\n"
     ]
    }
   ],
   "source": [
    "loops = 0\n",
    "\n",
    "for point in list(visited)[1:]:\n",
    "    grid[point[1]][point[0]] = \"#\"\n",
    "    dir = (0,-1)\n",
    "    pos_y = 49\n",
    "    pos_x = 39\n",
    "\n",
    "    visit = set()\n",
    "\n",
    "    while(True):\n",
    "        # Guard exits the grid\n",
    "        if(pos_y+dir[1] < 0 or pos_y+dir[1] >= len(grid) or pos_x+dir[0] < 0 or pos_x+dir[0] >= len(grid[0])):\n",
    "            break\n",
    "                \n",
    "        # Guard hits a barrel\n",
    "        if(grid[pos_y+dir[1]][pos_x+dir[0]] == \"#\"):\n",
    "            dir = getNewDirection(dir)\n",
    "            continue\n",
    "                \n",
    "        # Guard moves\n",
    "        pos_x += dir[0]\n",
    "        pos_y += dir[1]\n",
    "        if((pos_x, pos_y, dir) in visit):\n",
    "            loops += 1\n",
    "            break\n",
    "        visit.add((pos_x, pos_y, dir))\n",
    "\n",
    "    grid[point[1]][point[0]] = \".\"\n",
    "\n",
    "\n",
    "print(loops)"
   ]
  },
  {
   "cell_type": "markdown",
   "metadata": {},
   "source": [
    "### Day 7"
   ]
  },
  {
   "cell_type": "code",
   "execution_count": 18,
   "metadata": {},
   "outputs": [
    {
     "name": "stdout",
     "output_type": "stream",
     "text": [
      "4122618559853\n"
     ]
    }
   ],
   "source": [
    "from itertools import product\n",
    "\n",
    "test_values = []\n",
    "numbers = []\n",
    "\n",
    "with open(join(cwd, \"inputs/input_7.txt\")) as file:\n",
    "    for line in file:\n",
    "        t = line.strip().split(\":\")\n",
    "        test_values.append(int(t[0]))\n",
    "        numbers.append([int(x) for x in t[1].strip().split(\" \")])\n",
    "\n",
    "result = 0\n",
    "operators = ['+', '*']\n",
    "\n",
    "for i in range(len(numbers)):\n",
    "    for ops in product(operators, repeat=len(numbers[i]) - 1):\n",
    "        value = numbers[i][0]\n",
    "        for index, op in enumerate(ops):\n",
    "            if op == '+':\n",
    "                value += numbers[i][index+1]\n",
    "            elif op == '*':\n",
    "                value *= numbers[i][index+1]\n",
    "        if(value == test_values[i]):\n",
    "            result += value\n",
    "            break \n",
    "\n",
    "print(result)"
   ]
  },
  {
   "cell_type": "code",
   "execution_count": 19,
   "metadata": {},
   "outputs": [
    {
     "name": "stdout",
     "output_type": "stream",
     "text": [
      "227615740238334\n"
     ]
    }
   ],
   "source": [
    "result = 0\n",
    "operators = ['+', '*', '||']\n",
    "\n",
    "for i in range(len(numbers)):\n",
    "    for ops in product(operators, repeat=len(numbers[i]) - 1):\n",
    "        value = numbers[i][0]\n",
    "        for index, op in enumerate(ops):\n",
    "            if op == '+':\n",
    "                value += numbers[i][index+1]\n",
    "            elif op == '*':\n",
    "                value *= numbers[i][index+1]\n",
    "            elif op == '||':\n",
    "                value = int(str(value) + str(numbers[i][index+1]))\n",
    "        if(value == test_values[i]):\n",
    "            result += value\n",
    "            break \n",
    "\n",
    "print(result)"
   ]
  },
  {
   "cell_type": "markdown",
   "metadata": {},
   "source": [
    "### Day 8"
   ]
  },
  {
   "cell_type": "code",
   "execution_count": null,
   "metadata": {},
   "outputs": [],
   "source": []
  },
  {
   "cell_type": "code",
   "execution_count": null,
   "metadata": {},
   "outputs": [],
   "source": []
  },
  {
   "cell_type": "markdown",
   "metadata": {},
   "source": [
    "### Day 9"
   ]
  },
  {
   "cell_type": "code",
   "execution_count": null,
   "metadata": {},
   "outputs": [],
   "source": []
  },
  {
   "cell_type": "code",
   "execution_count": null,
   "metadata": {},
   "outputs": [],
   "source": []
  },
  {
   "cell_type": "markdown",
   "metadata": {},
   "source": [
    "### Day 10"
   ]
  },
  {
   "cell_type": "code",
   "execution_count": null,
   "metadata": {},
   "outputs": [],
   "source": []
  },
  {
   "cell_type": "code",
   "execution_count": null,
   "metadata": {},
   "outputs": [],
   "source": []
  },
  {
   "cell_type": "markdown",
   "metadata": {},
   "source": [
    "### Day 11"
   ]
  },
  {
   "cell_type": "code",
   "execution_count": null,
   "metadata": {},
   "outputs": [],
   "source": []
  },
  {
   "cell_type": "code",
   "execution_count": null,
   "metadata": {},
   "outputs": [],
   "source": []
  },
  {
   "cell_type": "markdown",
   "metadata": {},
   "source": [
    "### Day 12"
   ]
  },
  {
   "cell_type": "code",
   "execution_count": null,
   "metadata": {},
   "outputs": [],
   "source": []
  },
  {
   "cell_type": "code",
   "execution_count": null,
   "metadata": {},
   "outputs": [],
   "source": []
  },
  {
   "cell_type": "markdown",
   "metadata": {},
   "source": [
    "### Day 13"
   ]
  },
  {
   "cell_type": "code",
   "execution_count": null,
   "metadata": {},
   "outputs": [],
   "source": []
  },
  {
   "cell_type": "code",
   "execution_count": null,
   "metadata": {},
   "outputs": [],
   "source": []
  },
  {
   "cell_type": "markdown",
   "metadata": {},
   "source": [
    "### Day 14"
   ]
  },
  {
   "cell_type": "code",
   "execution_count": null,
   "metadata": {},
   "outputs": [],
   "source": []
  },
  {
   "cell_type": "code",
   "execution_count": null,
   "metadata": {},
   "outputs": [],
   "source": []
  },
  {
   "cell_type": "markdown",
   "metadata": {},
   "source": [
    "### Day 15"
   ]
  },
  {
   "cell_type": "code",
   "execution_count": null,
   "metadata": {},
   "outputs": [],
   "source": []
  },
  {
   "cell_type": "code",
   "execution_count": null,
   "metadata": {},
   "outputs": [],
   "source": []
  },
  {
   "cell_type": "markdown",
   "metadata": {},
   "source": [
    "### Day 16"
   ]
  },
  {
   "cell_type": "code",
   "execution_count": null,
   "metadata": {},
   "outputs": [],
   "source": []
  },
  {
   "cell_type": "code",
   "execution_count": null,
   "metadata": {},
   "outputs": [],
   "source": []
  },
  {
   "cell_type": "markdown",
   "metadata": {},
   "source": [
    "### Day 17"
   ]
  },
  {
   "cell_type": "code",
   "execution_count": null,
   "metadata": {},
   "outputs": [],
   "source": []
  },
  {
   "cell_type": "code",
   "execution_count": null,
   "metadata": {},
   "outputs": [],
   "source": []
  },
  {
   "cell_type": "markdown",
   "metadata": {},
   "source": [
    "### Day 18"
   ]
  },
  {
   "cell_type": "code",
   "execution_count": null,
   "metadata": {},
   "outputs": [],
   "source": []
  },
  {
   "cell_type": "code",
   "execution_count": null,
   "metadata": {},
   "outputs": [],
   "source": []
  },
  {
   "cell_type": "markdown",
   "metadata": {},
   "source": [
    "### Day 19"
   ]
  },
  {
   "cell_type": "code",
   "execution_count": null,
   "metadata": {},
   "outputs": [],
   "source": []
  },
  {
   "cell_type": "code",
   "execution_count": null,
   "metadata": {},
   "outputs": [],
   "source": []
  },
  {
   "cell_type": "markdown",
   "metadata": {},
   "source": [
    "### Day 20"
   ]
  },
  {
   "cell_type": "code",
   "execution_count": null,
   "metadata": {},
   "outputs": [],
   "source": []
  },
  {
   "cell_type": "code",
   "execution_count": null,
   "metadata": {},
   "outputs": [],
   "source": []
  },
  {
   "cell_type": "markdown",
   "metadata": {},
   "source": [
    "### Day 21"
   ]
  },
  {
   "cell_type": "code",
   "execution_count": null,
   "metadata": {},
   "outputs": [],
   "source": []
  },
  {
   "cell_type": "code",
   "execution_count": null,
   "metadata": {},
   "outputs": [],
   "source": []
  },
  {
   "cell_type": "markdown",
   "metadata": {},
   "source": [
    "### Day 22"
   ]
  },
  {
   "cell_type": "code",
   "execution_count": null,
   "metadata": {},
   "outputs": [],
   "source": []
  },
  {
   "cell_type": "code",
   "execution_count": null,
   "metadata": {},
   "outputs": [],
   "source": []
  },
  {
   "cell_type": "markdown",
   "metadata": {},
   "source": [
    "### Day 23"
   ]
  },
  {
   "cell_type": "code",
   "execution_count": null,
   "metadata": {},
   "outputs": [],
   "source": []
  },
  {
   "cell_type": "code",
   "execution_count": null,
   "metadata": {},
   "outputs": [],
   "source": []
  },
  {
   "cell_type": "markdown",
   "metadata": {},
   "source": [
    "### Day 24"
   ]
  },
  {
   "cell_type": "code",
   "execution_count": null,
   "metadata": {},
   "outputs": [],
   "source": []
  },
  {
   "cell_type": "code",
   "execution_count": null,
   "metadata": {},
   "outputs": [],
   "source": []
  },
  {
   "cell_type": "markdown",
   "metadata": {},
   "source": [
    "### Day 25"
   ]
  },
  {
   "cell_type": "code",
   "execution_count": null,
   "metadata": {},
   "outputs": [],
   "source": []
  },
  {
   "cell_type": "code",
   "execution_count": null,
   "metadata": {},
   "outputs": [],
   "source": []
  }
 ],
 "metadata": {
  "kernelspec": {
   "display_name": "Python 3",
   "language": "python",
   "name": "python3"
  },
  "language_info": {
   "codemirror_mode": {
    "name": "ipython",
    "version": 3
   },
   "file_extension": ".py",
   "mimetype": "text/x-python",
   "name": "python",
   "nbconvert_exporter": "python",
   "pygments_lexer": "ipython3",
   "version": "3.12.4"
  }
 },
 "nbformat": 4,
 "nbformat_minor": 2
}
