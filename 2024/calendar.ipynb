{
 "cells": [
  {
   "cell_type": "markdown",
   "metadata": {},
   "source": [
    "### Setup"
   ]
  },
  {
   "cell_type": "code",
   "execution_count": 2,
   "metadata": {},
   "outputs": [],
   "source": [
    "from os.path import join\n",
    "\n",
    "from pathlib import Path\n",
    "cwd = Path.cwd()"
   ]
  },
  {
   "cell_type": "markdown",
   "metadata": {},
   "source": [
    "### Day 1"
   ]
  },
  {
   "cell_type": "code",
   "execution_count": 3,
   "metadata": {},
   "outputs": [
    {
     "name": "stdout",
     "output_type": "stream",
     "text": [
      "1722302\n"
     ]
    }
   ],
   "source": [
    "from operator import sub, abs\n",
    "\n",
    "list1 = []\n",
    "list2 = []\n",
    "\n",
    "with open(join(cwd, \"inputs/input_1.txt\")) as file:\n",
    "    for line in file:\n",
    "        line = line.strip().split(\"   \")\n",
    "        list1.append(int(line[0]))\n",
    "        list2.append(int(line[1]))\n",
    "\n",
    "list1.sort()\n",
    "list2.sort()\n",
    "\n",
    "dif = [*map(sub, list2, list1)]\n",
    "dif = [*map(abs, dif)]\n",
    "\n",
    "\n",
    "result = sum(dif)\n",
    "\n",
    "print(result)"
   ]
  },
  {
   "cell_type": "code",
   "execution_count": 4,
   "metadata": {},
   "outputs": [
    {
     "name": "stdout",
     "output_type": "stream",
     "text": [
      "20373490\n"
     ]
    }
   ],
   "source": [
    "sim_score = 0\n",
    "\n",
    "for elemL in list1:\n",
    "    count = 0\n",
    "    for elemR in list2:\n",
    "        if elemL == elemR:\n",
    "            count += 1\n",
    "    sim_score += elemL * count\n",
    "\n",
    "print(sim_score)"
   ]
  },
  {
   "cell_type": "markdown",
   "metadata": {},
   "source": [
    "### Day 2"
   ]
  },
  {
   "cell_type": "code",
   "execution_count": 5,
   "metadata": {},
   "outputs": [
    {
     "name": "stdout",
     "output_type": "stream",
     "text": [
      "411\n"
     ]
    }
   ],
   "source": [
    "safe_count = 0\n",
    "\n",
    "with open(join(cwd, \"inputs/input_2.txt\")) as file:\n",
    "    for line in file:\n",
    "        report = line.strip().split(\" \")\n",
    "        report = [int(x) for x in report]\n",
    "        \n",
    "        iter = [*zip(report, report[1:])]\n",
    "        if (all(a<b for a,b in iter) or all(a>b for a,b in iter)) and all(abs(a-b)<=3 for a,b in iter):\n",
    "            safe_count += 1\n",
    "        \n",
    "print(safe_count)"
   ]
  },
  {
   "cell_type": "code",
   "execution_count": 6,
   "metadata": {},
   "outputs": [
    {
     "name": "stdout",
     "output_type": "stream",
     "text": [
      "465\n"
     ]
    }
   ],
   "source": [
    "safe_count = 0\n",
    "\n",
    "with open(join(cwd, \"inputs/input_2.txt\")) as file:\n",
    "    for line in file:\n",
    "        report = line.strip().split(\" \")\n",
    "        report = [int(x) for x in report]\n",
    "        \n",
    "        safe = 0\n",
    "        for i in range(len(report)):\n",
    "            report_one_less = [x[1] for x in enumerate(report) if x[0] != i]\n",
    "            iter = [*zip(report_one_less, report_one_less[1:])]\n",
    "            if (all(a<b for a,b in iter) or all(a>b for a,b in iter)) and all(abs(a-b)<=3 for a,b in iter):\n",
    "                safe += 1\n",
    "\n",
    "        if safe >= 1:\n",
    "            safe_count += 1\n",
    "\n",
    "print(safe_count)"
   ]
  },
  {
   "cell_type": "markdown",
   "metadata": {},
   "source": [
    "### Day 3 ###"
   ]
  },
  {
   "cell_type": "code",
   "execution_count": 7,
   "metadata": {},
   "outputs": [
    {
     "name": "stdout",
     "output_type": "stream",
     "text": [
      "179834255\n"
     ]
    }
   ],
   "source": [
    "import re\n",
    "\n",
    "mul_sum = 0\n",
    "global_matches = []\n",
    "\n",
    "with open(join(cwd, \"inputs/input_3.txt\")) as file:\n",
    "    for line in file:\n",
    "        matches = re.findall(r'mul\\(\\d+,\\d+\\)', line)\n",
    "        global_matches += matches\n",
    "\n",
    "for match in global_matches:\n",
    "    operands = match.split('(')[1].split(')')[0].split(',')\n",
    "    mul_sum += int(operands[0]) * int(operands[1])\n",
    "\n",
    "print(mul_sum)"
   ]
  },
  {
   "cell_type": "code",
   "execution_count": 8,
   "metadata": {},
   "outputs": [
    {
     "name": "stdout",
     "output_type": "stream",
     "text": [
      "80570939\n"
     ]
    }
   ],
   "source": [
    "import re\n",
    "\n",
    "mul_sum = 0\n",
    "global_matches = []\n",
    "toggle_on = True\n",
    "\n",
    "with open(join(cwd, \"inputs/input_3.txt\")) as file:\n",
    "    for line in file:\n",
    "        toggle_on_pat = re.compile(r'do\\(\\)')\n",
    "        toggle_off_pat = re.compile(r'don\\'t\\(\\)')\n",
    "        mul_pat = re.compile(r'mul\\(\\d+,\\d+\\)')\n",
    "        \n",
    "        for i in range(len(line)):\n",
    "            for j in range(i + 1, len(line) + 1):\n",
    "                window = line[i:j]\n",
    "                if toggle_on_pat.fullmatch(window):\n",
    "                    toggle_on = True\n",
    "                elif toggle_off_pat.fullmatch(window):\n",
    "                    toggle_on = False\n",
    "                if toggle_on and mul_pat.fullmatch(window):\n",
    "                    global_matches.append(window)\n",
    "\n",
    "for match in global_matches:\n",
    "    operands = match.split('(')[1].split(')')[0].split(',')\n",
    "    mul_sum += int(operands[0]) * int(operands[1])\n",
    "\n",
    "print(mul_sum)"
   ]
  },
  {
   "cell_type": "markdown",
   "metadata": {},
   "source": [
    "### Day 4"
   ]
  },
  {
   "cell_type": "code",
   "execution_count": 9,
   "metadata": {},
   "outputs": [
    {
     "name": "stdout",
     "output_type": "stream",
     "text": [
      "2644\n"
     ]
    }
   ],
   "source": [
    "word_search = []\n",
    "xmas_counter = 0\n",
    "\n",
    "with open(join(cwd, \"inputs/input_4.txt\")) as file:\n",
    "    for line in file:\n",
    "        line = line.strip()\n",
    "        word_search.append(line)\n",
    "\n",
    "length = len(word_search)\n",
    "for i in range(length):\n",
    "    for j in range(length):\n",
    "        if word_search[i][j] == 'X':\n",
    "            #straight\n",
    "            if j < length - 3:\n",
    "                if word_search[i][j+1] == 'M'and word_search[i][j+2] == 'A' and word_search[i][j+3] == 'S': xmas_counter+=1\n",
    "            if j > 2:    \n",
    "                if word_search[i][j-1] == 'M' and word_search[i][j-2] == 'A' and word_search[i][j-3] == 'S': xmas_counter+=1\n",
    "            if i < length - 3:    \n",
    "                if word_search[i+1][j] == 'M' and word_search[i+2][j] == 'A' and word_search[i+3][j] == 'S': xmas_counter+=1\n",
    "            if i > 2:      \n",
    "                if word_search[i-1][j] == 'M' and word_search[i-2][j] == 'A' and word_search[i-3][j] == 'S': xmas_counter+=1 \n",
    "\n",
    "            #diagonal\n",
    "            if i < length - 3 and j < length - 3:\n",
    "                if word_search[i+1][j+1] == 'M' and word_search[i+2][j+2] == 'A' and word_search[i+3][j+3] == 'S': xmas_counter+=1\n",
    "            if i < length - 3 and j > 2:\n",
    "                if word_search[i+1][j-1] == 'M' and word_search[i+2][j-2] == 'A' and word_search[i+3][j-3] == 'S': xmas_counter+=1\n",
    "            if i > 2 and j < length - 3:    \n",
    "                if word_search[i-1][j+1] == 'M' and word_search[i-2][j+2] == 'A' and word_search[i-3][j+3] == 'S': xmas_counter+=1\n",
    "            if i > 2 and j > 2:    \n",
    "                if word_search[i-1][j-1] == 'M' and word_search[i-2][j-2] == 'A' and word_search[i-3][j-3] == 'S': xmas_counter+=1\n",
    "\n",
    "print(xmas_counter)"
   ]
  },
  {
   "cell_type": "code",
   "execution_count": 10,
   "metadata": {},
   "outputs": [
    {
     "name": "stdout",
     "output_type": "stream",
     "text": [
      "1952\n"
     ]
    }
   ],
   "source": [
    "x_mas_counter = 0\n",
    "\n",
    "for i in range(len(word_search)):\n",
    "    for j in range(len(word_search[0])):\n",
    "        if(i != 0 and i != len(word_search)-1 and j != 0 and j != len(word_search)-1):\n",
    "            if word_search[i][j] == \"A\":\n",
    "                if word_search[i+1][j+1] == \"M\" and word_search[i+1][j-1] == \"M\" and word_search[i-1][j+1] == \"S\" and word_search[i-1][j-1] == \"S\": x_mas_counter+=1\n",
    "                if word_search[i+1][j+1] == \"M\" and word_search[i+1][j-1] == \"S\" and word_search[i-1][j+1] == \"M\" and word_search[i-1][j-1] == \"S\": x_mas_counter+=1\n",
    "                if word_search[i+1][j+1] == \"S\" and word_search[i+1][j-1] == \"M\" and word_search[i-1][j+1] == \"S\" and word_search[i-1][j-1] == \"M\": x_mas_counter+=1\n",
    "                if word_search[i+1][j+1] == \"S\" and word_search[i+1][j-1] == \"S\" and word_search[i-1][j+1] == \"M\" and word_search[i-1][j-1] == \"M\": x_mas_counter+=1\n",
    "\n",
    "print(x_mas_counter)"
   ]
  },
  {
   "cell_type": "markdown",
   "metadata": {},
   "source": [
    "### Day 5"
   ]
  },
  {
   "cell_type": "code",
   "execution_count": 11,
   "metadata": {},
   "outputs": [
    {
     "name": "stdout",
     "output_type": "stream",
     "text": [
      "6498\n"
     ]
    }
   ],
   "source": [
    "rules = []\n",
    "updates = []\n",
    "\n",
    "with open(join(cwd, \"inputs/input_5.txt\")) as file:\n",
    "    rules_updates = file.read().split(\"\\n\\n\")\n",
    "    for line in rules_updates[0].split(\"\\n\"):\n",
    "        line = line.strip().split(\"|\")\n",
    "        rules.append((int(line[0]), int(line[1])))\n",
    "    for line in rules_updates[1].split(\"\\n\"):\n",
    "        line = line.strip().split(\",\")\n",
    "        updates.append(list([int(x) for x in line]))\n",
    "    \n",
    "\n",
    "result = 0\n",
    "\n",
    "# Used for part 2\n",
    "false_updates = []\n",
    "\n",
    "for update in updates:\n",
    "    valid = True\n",
    "    \n",
    "    for rule in rules:\n",
    "        if rule[0] in update and rule[1] in update and update.index(rule[0]) > update.index(rule[1]): \n",
    "            valid = False\n",
    "            false_updates.append(update)\n",
    "            break\n",
    "\n",
    "    if valid:\n",
    "        result += update[int((len(update)-1)/2)]\n",
    "\n",
    "print(result)"
   ]
  },
  {
   "cell_type": "code",
   "execution_count": 12,
   "metadata": {},
   "outputs": [
    {
     "name": "stdout",
     "output_type": "stream",
     "text": [
      "5017\n"
     ]
    }
   ],
   "source": [
    "result = 0\n",
    "\n",
    "for update in false_updates:\n",
    "    valid = False\n",
    "    while(not valid):\n",
    "        valid = True\n",
    "        for i in range(len(update)):\n",
    "            for j in range(i+1, len(update)):\n",
    "                if i == len(update):\n",
    "                    break\n",
    "                else:\n",
    "                    if (update[j], update[i]) in rules:\n",
    "                        update[i], update[j] = update[j], update[i]\n",
    "                        valid = False\n",
    "                        break \n",
    "            \n",
    "    result += update[int((len(update)-1)/2)]\n",
    "\n",
    "print(result)"
   ]
  },
  {
   "cell_type": "markdown",
   "metadata": {},
   "source": [
    "### Day 6"
   ]
  },
  {
   "cell_type": "code",
   "execution_count": 13,
   "metadata": {},
   "outputs": [
    {
     "name": "stdout",
     "output_type": "stream",
     "text": [
      "5305\n"
     ]
    }
   ],
   "source": [
    "grid = []\n",
    "\n",
    "with open(join(cwd, \"inputs/input_6.txt\")) as file:\n",
    "    for line in file:\n",
    "        grid.append(list(line.strip()))\n",
    "\n",
    "def getNewDirection(direction):\n",
    "    if direction == (0,-1):\n",
    "        return (1,0)\n",
    "    if direction == (1,0):\n",
    "        return (0, 1)\n",
    "    if direction == (0,1):\n",
    "        return (-1,0)\n",
    "    if direction == (-1,0):\n",
    "        return (0,-1)\n",
    "    \n",
    "    \n",
    "\n",
    "dir = (0,-1)\n",
    "pos_y = grid.index([x for x in grid if \"^\" in x][0])\n",
    "pos_x = grid[pos_y].index(\"^\")\n",
    "\n",
    "visited = set([(pos_x, pos_y)])\n",
    "\n",
    "while(True):\n",
    "    # Guard exits the grid\n",
    "    if(pos_y+dir[1] < 0 or pos_y+dir[1] >= len(grid) or pos_x+dir[0] < 0 or pos_x+dir[0] >= len(grid[0])):\n",
    "        break\n",
    "    \n",
    "    # Guard hits a barrel\n",
    "    if(grid[pos_y+dir[1]][pos_x+dir[0]] == \"#\"):\n",
    "        dir = getNewDirection(dir)\n",
    "        continue\n",
    "    \n",
    "    # Guard moves\n",
    "    pos_x += dir[0]\n",
    "    pos_y += dir[1]\n",
    "    visited.add((pos_x, pos_y))\n",
    "\n",
    "print(len(visited))"
   ]
  },
  {
   "cell_type": "code",
   "execution_count": 14,
   "metadata": {},
   "outputs": [
    {
     "name": "stdout",
     "output_type": "stream",
     "text": [
      "2142\n"
     ]
    }
   ],
   "source": [
    "loops = 0\n",
    "\n",
    "for point in list(visited)[1:]:\n",
    "    grid[point[1]][point[0]] = \"#\"\n",
    "    dir = (0,-1)\n",
    "    pos_y = 49\n",
    "    pos_x = 39\n",
    "\n",
    "    visit = set()\n",
    "\n",
    "    while(True):\n",
    "        # Guard exits the grid\n",
    "        if(pos_y+dir[1] < 0 or pos_y+dir[1] >= len(grid) or pos_x+dir[0] < 0 or pos_x+dir[0] >= len(grid[0])):\n",
    "            break\n",
    "                \n",
    "        # Guard hits a barrel\n",
    "        if(grid[pos_y+dir[1]][pos_x+dir[0]] == \"#\"):\n",
    "            dir = getNewDirection(dir)\n",
    "            continue\n",
    "                \n",
    "        # Guard moves\n",
    "        pos_x += dir[0]\n",
    "        pos_y += dir[1]\n",
    "        if((pos_x, pos_y, dir) in visit):\n",
    "            loops += 1\n",
    "            break\n",
    "        visit.add((pos_x, pos_y, dir))\n",
    "\n",
    "    grid[point[1]][point[0]] = \".\"\n",
    "\n",
    "\n",
    "print(loops)"
   ]
  },
  {
   "cell_type": "markdown",
   "metadata": {},
   "source": [
    "### Day 7"
   ]
  },
  {
   "cell_type": "code",
   "execution_count": 15,
   "metadata": {},
   "outputs": [
    {
     "name": "stdout",
     "output_type": "stream",
     "text": [
      "4122618559853\n"
     ]
    }
   ],
   "source": [
    "from itertools import product\n",
    "\n",
    "test_values = []\n",
    "numbers = []\n",
    "\n",
    "with open(join(cwd, \"inputs/input_7.txt\")) as file:\n",
    "    for line in file:\n",
    "        t = line.strip().split(\":\")\n",
    "        test_values.append(int(t[0]))\n",
    "        numbers.append([int(x) for x in t[1].strip().split(\" \")])\n",
    "\n",
    "result = 0\n",
    "operators = ['+', '*']\n",
    "\n",
    "for i in range(len(numbers)):\n",
    "    for ops in product(operators, repeat=len(numbers[i]) - 1):\n",
    "        value = numbers[i][0]\n",
    "        for index, op in enumerate(ops):\n",
    "            if op == '+':\n",
    "                value += numbers[i][index+1]\n",
    "            elif op == '*':\n",
    "                value *= numbers[i][index+1]\n",
    "        if(value == test_values[i]):\n",
    "            result += value\n",
    "            break \n",
    "\n",
    "print(result)"
   ]
  },
  {
   "cell_type": "code",
   "execution_count": 16,
   "metadata": {},
   "outputs": [
    {
     "name": "stdout",
     "output_type": "stream",
     "text": [
      "227615740238334\n"
     ]
    }
   ],
   "source": [
    "result = 0\n",
    "operators = ['+', '*', '||']\n",
    "\n",
    "for i in range(len(numbers)):\n",
    "    for ops in product(operators, repeat=len(numbers[i]) - 1):\n",
    "        value = numbers[i][0]\n",
    "        for index, op in enumerate(ops):\n",
    "            if op == '+':\n",
    "                value += numbers[i][index+1]\n",
    "            elif op == '*':\n",
    "                value *= numbers[i][index+1]\n",
    "            elif op == '||':\n",
    "                value = int(str(value) + str(numbers[i][index+1]))\n",
    "        if(value == test_values[i]):\n",
    "            result += value\n",
    "            break \n",
    "\n",
    "print(result)"
   ]
  },
  {
   "cell_type": "markdown",
   "metadata": {},
   "source": [
    "### Day 8"
   ]
  },
  {
   "cell_type": "code",
   "execution_count": 17,
   "metadata": {},
   "outputs": [
    {
     "name": "stdout",
     "output_type": "stream",
     "text": [
      "305\n"
     ]
    }
   ],
   "source": [
    "import re\n",
    "import itertools\n",
    "\n",
    "grid = []\n",
    "\n",
    "with open(join(cwd, \"inputs/input_8.txt\")) as file:\n",
    "    for line in file:\n",
    "        grid.append(list(line.strip()))\n",
    "\n",
    "# Make a dictionary nodeName:[list of positions on the grid]\n",
    "node_pos_dict = {}\n",
    "node_pat = re.compile(r'[0-9a-zA-Z]')\n",
    "\n",
    "for y in range(len(grid)):\n",
    "    for x in range(len(grid[0])):\n",
    "        node = grid[y][x]\n",
    "        if node_pat.fullmatch(node):\n",
    "            if node in node_pos_dict.keys():\n",
    "                node_pos_dict[node] += [(x,y)]\n",
    "            else:\n",
    "                node_pos_dict[node] = [(x,y)] \n",
    "\n",
    "antinodes = set()\n",
    "\n",
    "def inbounds(node):\n",
    "    if node[0] < 0 or node[1] < 0 or node[0] >= len(grid[0]) or node[1] >= len(grid):\n",
    "        return False\n",
    "    else:\n",
    "        return True\n",
    "\n",
    "for node_type in node_pos_dict:\n",
    "    for node_combo in itertools.combinations(node_pos_dict[node_type], 2):\n",
    "        \n",
    "        antinode1 = (2*node_combo[0][0] - node_combo[1][0], 2*node_combo[0][1] - node_combo[1][1]) \n",
    "        antinode2 = (2*node_combo[1][0] - node_combo[0][0], 2*node_combo[1][1] - node_combo[0][1])\n",
    "\n",
    "        if inbounds(antinode1):\n",
    "            antinodes.add(antinode1)\n",
    "        if inbounds(antinode2):\n",
    "            antinodes.add(antinode2)\n",
    "\n",
    "\n",
    "print(len(antinodes))"
   ]
  },
  {
   "cell_type": "code",
   "execution_count": 18,
   "metadata": {},
   "outputs": [
    {
     "name": "stdout",
     "output_type": "stream",
     "text": [
      "1150\n"
     ]
    }
   ],
   "source": [
    "antinodes = set()\n",
    "\n",
    "for node_type in node_pos_dict:\n",
    "    for node_combo in itertools.combinations(node_pos_dict[node_type], 2):\n",
    "        \n",
    "        antenna1 = node_combo[0]\n",
    "        antenna2 = node_combo[1]\n",
    "        \n",
    "        dx1, dy1 = node_combo[0][0] - node_combo[1][0], node_combo[0][1] - node_combo[1][1]\n",
    "        dx2, dy2 = node_combo[1][0] - node_combo[0][0], node_combo[1][1] - node_combo[0][1]\n",
    "        \n",
    "        while(inbounds(antenna1)):\n",
    "            antinodes.add(antenna1)\n",
    "            antenna1 = (antenna1[0] + dx1, antenna1[1] + dy1)\n",
    "            \n",
    "        while(inbounds(antenna2)):\n",
    "            antinodes.add(antenna2)\n",
    "            antenna2 = (antenna2[0] + dx2, antenna2[1] + dy2)\n",
    "        \n",
    "print(len(antinodes))\n",
    "        "
   ]
  },
  {
   "cell_type": "markdown",
   "metadata": {},
   "source": [
    "### Day 9"
   ]
  },
  {
   "cell_type": "code",
   "execution_count": 19,
   "metadata": {},
   "outputs": [
    {
     "name": "stdout",
     "output_type": "stream",
     "text": [
      "6279058075753\n"
     ]
    }
   ],
   "source": [
    "data = 0\n",
    "\n",
    "with open(join(cwd, \"inputs/input_9.txt\")) as file:\n",
    "    data = file.readline().strip()\n",
    "\n",
    "disk = []\n",
    "file_Id = 0\n",
    "for i in range(len(data)):\n",
    "    if i%2 == 0:\n",
    "        for block in range(int(data[i])):\n",
    "            disk.append(file_Id)\n",
    "        file_Id += 1\n",
    "    else:\n",
    "        for block in range(int(data[i])):\n",
    "            disk.append(\".\")\n",
    "\n",
    "left = 0\n",
    "right = len(disk) - 1\n",
    "while (left != right):\n",
    "    if(disk[left] != \".\"):\n",
    "        left +=1\n",
    "        continue\n",
    "    if(disk[right] == \".\"):\n",
    "        right -= 1\n",
    "        continue\n",
    "    \n",
    "    disk[left], disk[right] = disk[right], disk[left]\n",
    "\n",
    "checksum = 0\n",
    "for i in range(len(disk)):\n",
    "    if disk[i] == \".\":\n",
    "        break\n",
    "    checksum += disk[i]*i\n",
    "\n",
    "print(checksum)"
   ]
  },
  {
   "cell_type": "code",
   "execution_count": 20,
   "metadata": {},
   "outputs": [
    {
     "name": "stdout",
     "output_type": "stream",
     "text": [
      "6301361958738\n"
     ]
    }
   ],
   "source": [
    "# [(fileId, start, length)]\n",
    "files = []\n",
    "# [(start, length)]\n",
    "spaces = []\n",
    "\n",
    "file_Id = 0\n",
    "block_start = 0\n",
    "\n",
    "for i in range(len(data)):\n",
    "    block_len = int(data[i])\n",
    "    if i%2 == 0:\n",
    "        files.append((file_Id, block_start, block_len))\n",
    "        file_Id += 1\n",
    "        block_start += block_len\n",
    "    else:\n",
    "        spaces.append((block_start, block_len))\n",
    "        block_start += block_len\n",
    "\n",
    "checksum = 0\n",
    "files.reverse()\n",
    "for f in range(len(files)):\n",
    "    for s in range(len(spaces)):\n",
    "        if files[f][2] <= spaces[s][1] and spaces[s][0] < files[f][1]:\n",
    "            files[f] = (files[f][0], spaces[s][0], files[f][2])\n",
    "            spaces[s] = (spaces[s][0] + files[f][2], spaces[s][1] - files[f][2])\n",
    "            break\n",
    "    for i in range(files[f][2]):\n",
    "        checksum += files[f][0] * (files[f][1] + i)        \n",
    "print(checksum)\n",
    "    "
   ]
  },
  {
   "cell_type": "markdown",
   "metadata": {},
   "source": [
    "### Day 10"
   ]
  },
  {
   "cell_type": "code",
   "execution_count": 21,
   "metadata": {},
   "outputs": [
    {
     "name": "stdout",
     "output_type": "stream",
     "text": [
      "472\n"
     ]
    }
   ],
   "source": [
    "topmap = []\n",
    "\n",
    "with open(join(cwd, \"inputs/input_10.txt\")) as file:\n",
    "    for line in file:\n",
    "        topmap.append([int(x) for x in list(line.strip())])\n",
    "\n",
    "def count_nines(start):\n",
    "    nines = set()\n",
    "    def traverse(x, y, current_value):\n",
    "        if x < 0 or y < 0 or x >= len(topmap[0]) or y >= len(topmap):\n",
    "            return\n",
    "        if topmap[y][x] != current_value:\n",
    "            return\n",
    "        if current_value == 9:\n",
    "            nines.add((x,y))\n",
    "            return\n",
    "        for dx, dy in [(-1, 0), (1, 0), (0, -1), (0, 1)]:\n",
    "            traverse(x + dx, y + dy, current_value + 1)\n",
    "    \n",
    "    start_x, start_y = start\n",
    "    traverse(start_x, start_y, 0)\n",
    "    return len(nines)\n",
    "\n",
    "result = 0\n",
    "for y in range(len(topmap)):\n",
    "    for x in range(len(topmap[0])):\n",
    "        if topmap[y][x] == 0:\n",
    "           result += count_nines((x, y))\n",
    "print(result) "
   ]
  },
  {
   "cell_type": "code",
   "execution_count": 22,
   "metadata": {},
   "outputs": [
    {
     "name": "stdout",
     "output_type": "stream",
     "text": [
      "969\n"
     ]
    }
   ],
   "source": [
    "def find_paths(start):\n",
    "    paths = []\n",
    "    def traverse(x, y, current_path, current_value):\n",
    "        if x < 0 or y < 0 or x >= len(topmap[0]) or y >= len(topmap):\n",
    "            return\n",
    "        if (x, y) in current_path:\n",
    "            return\n",
    "        if topmap[y][x] != current_value:\n",
    "            return\n",
    "        current_path.append((x, y))\n",
    "        if current_value == 9:\n",
    "            paths.append(list(current_path))\n",
    "            current_path.pop()\n",
    "            return\n",
    "        for dx, dy in [(-1, 0), (1, 0), (0, -1), (0, 1)]:\n",
    "            traverse(x + dx, y + dy, current_path, current_value + 1)\n",
    "        current_path.pop()\n",
    "    \n",
    "    start_x, start_y = start\n",
    "    traverse(start_x, start_y, [], 0)\n",
    "    return paths\n",
    "\n",
    "result = 0\n",
    "for y in range(len(topmap)):\n",
    "    for x in range(len(topmap[0])):\n",
    "        if topmap[y][x] == 0:\n",
    "           result += len(find_paths((x, y)))\n",
    "print(result) "
   ]
  },
  {
   "cell_type": "markdown",
   "metadata": {},
   "source": [
    "### Day 11"
   ]
  },
  {
   "cell_type": "code",
   "execution_count": 23,
   "metadata": {},
   "outputs": [
    {
     "name": "stdout",
     "output_type": "stream",
     "text": [
      "194557\n"
     ]
    }
   ],
   "source": [
    "stones = []\n",
    "with open(join(cwd, \"inputs/input_11.txt\")) as file:\n",
    "    stones = [int(x) for x in file.readline().strip().split(\" \")]\n",
    "\n",
    "def blink(stones):\n",
    "    new_stones = []\n",
    "    for stone in stones:  \n",
    "        if stone == 0:\n",
    "            new_stones.append(1)\n",
    "        elif len(str(stone)) % 2 == 0:   \n",
    "            mid = int(len(str(stone))/2)\n",
    "            left = str(stone)[:mid]\n",
    "            right = str(stone)[mid:]\n",
    "            new_stones.append(int(left))\n",
    "            new_stones.append(int(right))\n",
    "        else:\n",
    "            new_stones.append(stone*2024)\n",
    "    return(new_stones)\n",
    "\n",
    "N = 25        \n",
    "for i in range(N):\n",
    "    stones = blink(stones)\n",
    "\n",
    "print(len(stones))"
   ]
  },
  {
   "cell_type": "code",
   "execution_count": 24,
   "metadata": {},
   "outputs": [
    {
     "name": "stdout",
     "output_type": "stream",
     "text": [
      "231532558973909\n"
     ]
    }
   ],
   "source": [
    "from collections import Counter\n",
    "\n",
    "stones = []\n",
    "with open(join(cwd, \"inputs/input_11.txt\")) as file:\n",
    "    stones = [int(x) for x in file.readline().strip().split(\" \")]\n",
    "\n",
    "def blink(stones):\n",
    "    new_stones = Counter()\n",
    "    for stone in stones:\n",
    "        if stone == 0:\n",
    "            new_stones[1] += stones[0]\n",
    "        elif len(str(stone)) % 2 == 0:   \n",
    "            mid = int(len(str(stone))/2)\n",
    "            left = str(stone)[:mid]\n",
    "            right = str(stone)[mid:]\n",
    "            new_stones[int(left)] += stones[stone]\n",
    "            new_stones[int(right)] += stones[stone]\n",
    "        else:\n",
    "            new_stones[stone*2024] += stones[stone]\n",
    "    return(new_stones)\n",
    "\n",
    "N = 75 \n",
    "stones = Counter(stones)    \n",
    "for i in range(N):\n",
    "    stones = blink(stones)\n",
    "\n",
    "print(stones.total())\n"
   ]
  },
  {
   "cell_type": "markdown",
   "metadata": {},
   "source": [
    "### Day 12"
   ]
  },
  {
   "cell_type": "code",
   "execution_count": 25,
   "metadata": {},
   "outputs": [
    {
     "name": "stdout",
     "output_type": "stream",
     "text": [
      "1550156\n"
     ]
    }
   ],
   "source": [
    "from collections import deque\n",
    "garden = []\n",
    "\n",
    "with open(join(cwd, \"inputs/input_12.txt\")) as file:\n",
    "    for line in file:\n",
    "        garden.append(list(line.strip()))\n",
    "\n",
    "def find_clusters(grid):\n",
    "    rows, cols = len(grid), len(grid[0])\n",
    "    visited = [[False for _ in range(cols)] for _ in range(rows)]\n",
    "    def bfs(start_row, start_col):\n",
    "        letter = grid[start_row][start_col]\n",
    "        cluster = []\n",
    "        queue = deque([(start_row, start_col)])\n",
    "        visited[start_row][start_col] = True\n",
    "        while queue:\n",
    "            r, c = queue.popleft()\n",
    "            cluster.append((r, c))\n",
    "            for dr, dc in [(-1, 0), (1, 0), (0, -1), (0, 1)]:\n",
    "                nr, nc = r + dr, c + dc\n",
    "                if 0 <= nr < rows and 0 <= nc < cols and not visited[nr][nc] and grid[nr][nc] == letter:\n",
    "                    visited[nr][nc] = True\n",
    "                    queue.append((nr, nc))\n",
    "        return cluster\n",
    "\n",
    "    clusters = []\n",
    "    for row in range(rows):\n",
    "        for col in range(cols):\n",
    "            if not visited[row][col]:\n",
    "                cluster = bfs(row, col)\n",
    "                clusters.append(cluster)\n",
    "    return clusters\n",
    "\n",
    "def get_perimeter(grid, cluster):\n",
    "    rows, cols = len(grid), len(grid[0])\n",
    "    perimeter = 0\n",
    "    for r, c in cluster:\n",
    "        for dr, dc in [(-1, 0), (1, 0), (0, -1), (0, 1)]:\n",
    "            nr, nc = r + dr, c + dc\n",
    "            if not (0 <= nr < rows and 0 <= nc < cols) or grid[nr][nc] != grid[r][c]:\n",
    "                perimeter += 1\n",
    "    return perimeter\n",
    "\n",
    "result = 0\n",
    "clusters = find_clusters(garden)\n",
    "for cluster in clusters:\n",
    "    perimeter = get_perimeter(garden, cluster)\n",
    "    area = len(cluster)\n",
    "    result += perimeter * area\n",
    "\n",
    "print(result)"
   ]
  },
  {
   "cell_type": "code",
   "execution_count": 26,
   "metadata": {},
   "outputs": [
    {
     "name": "stdout",
     "output_type": "stream",
     "text": [
      "946084\n"
     ]
    }
   ],
   "source": [
    "def count_corners(grid, cluster):\n",
    "    rows, cols = len(grid), len(grid[0])\n",
    "    corners = 0\n",
    "    for r, c in cluster:\n",
    "        outside_neighbours = []\n",
    "        for dr, dc in [(-1, 0), (1, 0), (0, -1), (0, 1)]:\n",
    "            nr, nc = r + dr, c + dc\n",
    "            if not (0 <= nr < rows and 0 <= nc < cols) or grid[nr][nc] != grid[r][c]:\n",
    "                outside_neighbours.append((dr, dc))\n",
    "        # Single square\n",
    "        if(len(outside_neighbours) == 4):\n",
    "            corners += 4\n",
    "        # Corner type: |_| \n",
    "        if(len(outside_neighbours) == 3):\n",
    "            corners += 2\n",
    "        # Corner type: outside |_ make sure its not | |\n",
    "        if(len(outside_neighbours) == 2):\n",
    "            r1, c1 = outside_neighbours[0]\n",
    "            r2, c2 = outside_neighbours[1]\n",
    "            if(r1 + r2 != 0 and c1 + c2 != 0):\n",
    "                corners += 1\n",
    "        # Corner type: inside |_\n",
    "        for dr, dc in [(1, 1), (1, -1), (-1, 1), (-1, -1)]:\n",
    "            if (r+dr, c) in cluster and (r, c+dc) in cluster and not (r+dr, c+dc) in cluster:\n",
    "                corners += 1\n",
    "    return corners\n",
    "\n",
    "result = 0\n",
    "for cluster in clusters:\n",
    "    # number of corners and number of sides are always the same\n",
    "    sides = count_corners(garden, cluster)\n",
    "    area = len(cluster)\n",
    "    result += sides * area\n",
    "\n",
    "print(result)"
   ]
  },
  {
   "cell_type": "markdown",
   "metadata": {},
   "source": [
    "### Day 13"
   ]
  },
  {
   "cell_type": "code",
   "execution_count": 27,
   "metadata": {},
   "outputs": [
    {
     "name": "stdout",
     "output_type": "stream",
     "text": [
      "33481\n"
     ]
    }
   ],
   "source": [
    "machines = []\n",
    "with open(join(cwd, \"inputs/input_13.txt\")) as file:\n",
    "    blocks = file.read().split(\"\\n\\n\")\n",
    "    for block in blocks:\n",
    "        block= block.split(\"\\n\")\n",
    "        \n",
    "        button_a = (int(block[0].split(\",\")[0].split(\"+\")[1]), int(block[0].split(\",\")[1].split(\"+\")[1]))\n",
    "        button_b = (int(block[1].split(\",\")[0].split(\"+\")[1]), int(block[1].split(\",\")[1].split(\"+\")[1]))\n",
    "        prize = (int(block[2].split(\",\")[0].split(\"=\")[1]), int(block[2].split(\",\")[1].split(\"=\")[1]))\n",
    "        \n",
    "        machines.append([button_a, button_b, prize])\n",
    "        \n",
    "solutions = []\n",
    "for machine in machines:\n",
    "    x1, y1 = machine[0]\n",
    "    x2, y2 = machine[1]\n",
    "    x_fin, y_fin = machine[2]\n",
    "\n",
    "    for a in range(101):\n",
    "        for b in range(101):\n",
    "            if x1 * a + x2 * b == x_fin and y1 * a + y2 * b == y_fin:\n",
    "                solutions.append((a,b))\n",
    "                break\n",
    "        else:\n",
    "            continue\n",
    "        break\n",
    "\n",
    "tokens = 0\n",
    "for solution in solutions:\n",
    "    tokens += 3 * solution[0]\n",
    "    tokens += solution[1]\n",
    "\n",
    "print(tokens)"
   ]
  },
  {
   "cell_type": "code",
   "execution_count": 28,
   "metadata": {},
   "outputs": [
    {
     "name": "stdout",
     "output_type": "stream",
     "text": [
      "92572057880885\n"
     ]
    }
   ],
   "source": [
    "from sympy import symbols, Eq, solve\n",
    "solutions = []\n",
    "\n",
    "for machine in machines:\n",
    "    x1, y1 = machine[0]\n",
    "    x2, y2 = machine[1]\n",
    "    x_fin, y_fin = machine[2]\n",
    "    x_fin += 10000000000000\n",
    "    y_fin += 10000000000000\n",
    "\n",
    "    # Define variables\n",
    "    a, b = symbols('a b', integer=True)\n",
    "\n",
    "    # Define the system of equations\n",
    "    eq1 = Eq(x1 * a + x2 * b, x_fin)\n",
    "    eq2 = Eq(y1 * a + y2 * b, y_fin)\n",
    "\n",
    "    # Solve the system of equations symbolically\n",
    "    solution = solve((eq1, eq2), (a, b))\n",
    "    \n",
    "    if solution != []:\n",
    "        solutions.append((solution[a], solution[b]))\n",
    "\n",
    "tokens = 0\n",
    "for solution in solutions:\n",
    "    tokens += 3 * solution[0]\n",
    "    tokens += solution[1]\n",
    "\n",
    "print(tokens)"
   ]
  },
  {
   "cell_type": "markdown",
   "metadata": {},
   "source": [
    "### Day 14"
   ]
  },
  {
   "cell_type": "code",
   "execution_count": 29,
   "metadata": {},
   "outputs": [
    {
     "name": "stdout",
     "output_type": "stream",
     "text": [
      "229069152\n"
     ]
    }
   ],
   "source": [
    "robots = []\n",
    "\n",
    "with open(join(cwd, \"inputs/input_14.txt\")) as file:\n",
    "    for line in file:\n",
    "        p = line.split(\" \")[0].split(\"=\")[1].split(\",\")\n",
    "        v = line.split(\" \")[1].split(\"=\")[1].split(\",\")\n",
    "        robots.append([(int(p[0]),int(p[1])), (int(v[0]),int(v[1]))])\n",
    "\n",
    "cols = 101\n",
    "rows = 103\n",
    "\n",
    "def step_robots(robots):\n",
    "    new_robots = []\n",
    "    for robot in robots:\n",
    "        px, py = robot[0]\n",
    "        vx, vy = robot[1]\n",
    "\n",
    "        px_new, py_new = px + vx, py + vy\n",
    "\n",
    "        if px_new < 0:\n",
    "            px_new += cols\n",
    "        if py_new < 0:\n",
    "            py_new += rows\n",
    "        if px_new >= cols:\n",
    "            px_new -= cols\n",
    "        if py_new >= rows:\n",
    "            py_new -= rows\n",
    "\n",
    "        new_robots.append([(px_new,py_new), (vx,vy)])\n",
    "    \n",
    "    return new_robots\n",
    "\n",
    "for i in range(100):\n",
    "    robots = step_robots(robots)\n",
    "\n",
    "mx = cols // 2\n",
    "my = rows // 2\n",
    "\n",
    "q1, q2, q3, q4 = 0, 0, 0, 0\n",
    "\n",
    "for robot in robots:\n",
    "    px, py = robot[0]\n",
    "    if px < mx and py < my:\n",
    "        q1 += 1\n",
    "    if px > mx and py < my:\n",
    "        q2 += 1\n",
    "    if px < mx and py > my:\n",
    "        q3 += 1\n",
    "    if px > mx and py > my:\n",
    "        q4 += 1\n",
    "\n",
    "print(q1*q2*q3*q4)"
   ]
  },
  {
   "cell_type": "code",
   "execution_count": 30,
   "metadata": {},
   "outputs": [
    {
     "name": "stdout",
     "output_type": "stream",
     "text": [
      "7383\n"
     ]
    },
    {
     "data": {
      "image/png": "[encoded data removed]",
      "text/plain": [
       "<Figure size 640x480 with 1 Axes>"
      ]
     },
     "metadata": {},
     "output_type": "display_data"
    }
   ],
   "source": [
    "from matplotlib import pyplot as plt\n",
    "import numpy as np\n",
    "\n",
    "robots = []\n",
    "\n",
    "with open(join(cwd, \"inputs/input_14.txt\")) as file:\n",
    "    for line in file:\n",
    "        p = line.split(\" \")[0].split(\"=\")[1].split(\",\")\n",
    "        v = line.split(\" \")[1].split(\"=\")[1].split(\",\")\n",
    "        robots.append([(int(p[0]),int(p[1])), (int(v[0]),int(v[1]))])\n",
    "\n",
    "found_tree = False\n",
    "second = 0\n",
    "\n",
    "while(not found_tree):\n",
    "    grid = np.zeros((rows, cols))\n",
    "    points = set()\n",
    "    for robot in robots:\n",
    "        points.add(robot[0])\n",
    "    for y in range(rows):\n",
    "        adjacent_pixels = 0\n",
    "        for x in range(cols):\n",
    "            if (x,y) in points:\n",
    "                adjacent_pixels += 1\n",
    "                grid[y][x] = 1\n",
    "            else:\n",
    "                adjacent_pixels = 0\n",
    "            if adjacent_pixels == 10:\n",
    "                found_tree = True\n",
    "    \n",
    "    if found_tree:\n",
    "        print(second)\n",
    "        plt.imshow(grid)\n",
    "    else:\n",
    "        second += 1\n",
    "        robots = step_robots(robots)\n"
   ]
  },
  {
   "cell_type": "markdown",
   "metadata": {},
   "source": [
    "### Day 15"
   ]
  },
  {
   "cell_type": "code",
   "execution_count": 31,
   "metadata": {},
   "outputs": [
    {
     "name": "stdout",
     "output_type": "stream",
     "text": [
      "1538871\n"
     ]
    }
   ],
   "source": [
    "grid = []\n",
    "moves = []\n",
    "with open(join(cwd, \"inputs/input_15.txt\")) as file:\n",
    "    input = file.read().split(\"\\n\\n\")\n",
    "    grid = [list(x) for x in input[0].split(\"\\n\")]\n",
    "    moves = [move_set for x in [list(x) for x in input[1].split(\"\\n\")] for move_set in x] \n",
    "\n",
    "boxes = []\n",
    "walls = []\n",
    "rpos = ()\n",
    "\n",
    "for y,row in enumerate(grid):\n",
    "    for x,symbol in enumerate(row):\n",
    "        if symbol == \"@\":\n",
    "            rpos = (x,y)\n",
    "        if symbol == \"O\":\n",
    "            boxes.append((x,y))\n",
    "        if symbol == \"#\":\n",
    "            walls.append((x,y))\n",
    "\n",
    "dir_map = {\n",
    "    \"^\": (0,-1),\n",
    "    \"v\": (0,1),\n",
    "    \"<\": (-1,0),\n",
    "    \">\": (1,0)\n",
    "}\n",
    "\n",
    "def move_robot(robot_position, dir, box_positions, wall_positions):\n",
    "    rpos_new = robot_position\n",
    "    boxes_new = box_positions\n",
    "\n",
    "    rx,ry = robot_position\n",
    "    dx,dy = dir_map[dir]\n",
    "\n",
    "    if (rx+dx,ry+dy) not in wall_positions and (rx+dx,ry+dy) not in box_positions:\n",
    "        rpos_new = (rx+dx,ry+dy)\n",
    "    elif (rx+dx,ry+dy) in box_positions:\n",
    "        i = 1\n",
    "        while((rx+dx*i,ry+dy*i) in box_positions):\n",
    "            i += 1\n",
    "        if (rx+dx*i,ry+dy*i) not in wall_positions:\n",
    "            rpos_new = (rx+dx,ry+dy)\n",
    "            boxes_new.remove((rx+dx,ry+dy))\n",
    "            boxes_new.append((rx+dx*i,ry+dy*i))\n",
    "\n",
    "    return rpos_new, boxes_new\n",
    "\n",
    "for move in moves:\n",
    "    rpos, boxes = move_robot(rpos, move, boxes, walls)\n",
    "\n",
    "gps_sum = 0\n",
    "for box in boxes:\n",
    "    x,y = box\n",
    "    gps_sum += 100*y + x\n",
    "\n",
    "print(gps_sum)"
   ]
  },
  {
   "cell_type": "code",
   "execution_count": 32,
   "metadata": {},
   "outputs": [
    {
     "name": "stdout",
     "output_type": "stream",
     "text": [
      "1543338\n"
     ]
    }
   ],
   "source": [
    "grid = []\n",
    "moves = []\n",
    "with open(join(cwd, \"inputs/input_15.txt\")) as file:\n",
    "    input = file.read().split(\"\\n\\n\")\n",
    "    grid = [list(x) for x in input[0].split(\"\\n\")]\n",
    "    moves = [move_set for x in [list(x) for x in input[1].split(\"\\n\")] for move_set in x] \n",
    "\n",
    "new_grid = []\n",
    "rpos = ()\n",
    "\n",
    "for y,row in enumerate(grid):\n",
    "    new_row = []\n",
    "    for x,symbol in enumerate(row):\n",
    "        if symbol == \"@\":\n",
    "            new_row += \"@.\"\n",
    "            rpos = (len(new_row)-2, y)\n",
    "        if symbol == \"O\":\n",
    "            new_row += \"[]\"\n",
    "        if symbol == \"#\":\n",
    "            new_row += \"##\"\n",
    "        if symbol == \".\":\n",
    "            new_row += \"..\"\n",
    "    new_grid.append(list(new_row))\n",
    "\n",
    "def merge(a,b):\n",
    "    r = a\n",
    "    for eb in b: \n",
    "        if eb not in a: r.append(eb)\n",
    "    return r\n",
    "\n",
    "def step(x, y, dir):\n",
    "    dx, dy = dir_map[dir]\n",
    "    if new_grid[y+dy][x+dx] == \"#\": return []\n",
    "    if new_grid[y+dy][x+dx] == \".\": return [(x,y)]\n",
    "    \n",
    "    if dir == \">\" or dir == \"<\":\n",
    "        m = step(x+dx, y+dy, dir)\n",
    "        if m: return merge(m,[(x,y)]) \n",
    "\n",
    "    if dir == \"^\" or dir == \"v\":\n",
    "        xbox = x if new_grid[y+dy][x+dx] == \"[\" else x - 1\n",
    "        m1 = step(xbox+dx, y+dy, dir)\n",
    "        m2 = step(xbox+1+dx, y+dy, dir)\n",
    "        if m1 and m2: return merge(merge(m1,m2),[(x,y)])\n",
    "    \n",
    "    return []\n",
    "\n",
    "for move in moves:\n",
    "    x, y = rpos\n",
    "    dx, dy = dir_map[move]\n",
    "    pos = step(x, y, move)\n",
    "    if pos: rpos = (x+dx, y+dy)\n",
    "    for p in pos:\n",
    "        px, py = p\n",
    "        new_grid[py][px], new_grid[py+dy][px+dx] = new_grid[py+dy][px+dx], new_grid[py][px]\n",
    "\n",
    "gps_sum = 0\n",
    "for y, row in enumerate(new_grid):\n",
    "    for x, symbol in enumerate(row):\n",
    "        if symbol == \"[\": \n",
    "            gps_sum += 100*y + x \n",
    "print(gps_sum)"
   ]
  },
  {
   "cell_type": "markdown",
   "metadata": {},
   "source": [
    "### Day 16"
   ]
  },
  {
   "cell_type": "code",
   "execution_count": 33,
   "metadata": {},
   "outputs": [
    {
     "name": "stdout",
     "output_type": "stream",
     "text": [
      "85432\n"
     ]
    }
   ],
   "source": [
    "import heapq\n",
    "\n",
    "maze = []\n",
    "with open(join(cwd, \"inputs/input_16.txt\")) as file:\n",
    "    for line in file:\n",
    "        maze.append(list(line.strip()))\n",
    "\n",
    "start = () \n",
    "end =  ()\n",
    "\n",
    "# Get start and end positions\n",
    "for y, row in enumerate(maze):\n",
    "    for x, symbol in enumerate(row):\n",
    "        if symbol == \"S\":\n",
    "            start = (x,y)\n",
    "        if symbol == \"E\":\n",
    "            end = (x,y)\n",
    "\n",
    "directions = [(-1, 0), (1, 0), (0, -1), (0, 1)]\n",
    "\n",
    "def dijkstra(maze, start, end):\n",
    "    pq = []\n",
    "    heapq.heappush(pq, (0, start[0], start[1], 1))\n",
    "    visited = {}\n",
    "\n",
    "    while pq:\n",
    "        cost, x, y, current_dir = heapq.heappop(pq)\n",
    "        # Reached end\n",
    "        if (x, y) == end:\n",
    "            return cost\n",
    "        # Already visited with lower cost\n",
    "        if (x, y, current_dir) in visited and cost >= visited[(x, y, current_dir)]:\n",
    "            continue\n",
    "        # Mark visited\n",
    "        visited[(x, y, current_dir)] = cost\n",
    "        # Explore neighbors\n",
    "        for new_dir, (dx, dy) in enumerate(directions):\n",
    "            nx, ny = x + dx, y + dy\n",
    "            if maze[ny][nx] == \".\" or maze[ny][nx] == \"E\":\n",
    "                if current_dir == new_dir:\n",
    "                    new_cost = cost + 1\n",
    "                else:\n",
    "                    new_cost = cost + 1000 + 1\n",
    "                \n",
    "                heapq.heappush(pq,(new_cost, nx, ny, new_dir))\n",
    "    \n",
    "    raise Exception(\"Path doesn't exist!\")\n",
    "    \n",
    "minimum_cost = dijkstra(maze, start, end)\n",
    "print(minimum_cost)\n"
   ]
  },
  {
   "cell_type": "code",
   "execution_count": 34,
   "metadata": {},
   "outputs": [
    {
     "name": "stdout",
     "output_type": "stream",
     "text": [
      "465\n"
     ]
    }
   ],
   "source": [
    "\n",
    "def dijkstra_paths(maze, start, end):\n",
    "    pq = []\n",
    "    heapq.heappush(pq, (0, start[0], start[1], 1, [(start[0],start[1])]))\n",
    "    visited = {}\n",
    "    min_cost = float(\"inf\")\n",
    "    paths = []\n",
    "\n",
    "    while pq:\n",
    "        cost, x, y, current_dir, path = heapq.heappop(pq)\n",
    "        # Reached end\n",
    "        if (x, y) == end:\n",
    "            if cost < min_cost:\n",
    "                min_cost = cost\n",
    "                paths=[path]\n",
    "            elif cost == min_cost:\n",
    "                paths.append(path)\n",
    "            continue\n",
    "        # Already visited with lower cost\n",
    "        if (x, y, current_dir) in visited and cost > visited[(x, y, current_dir)]:\n",
    "            continue\n",
    "        # Mark visited\n",
    "        visited[(x, y, current_dir)] = cost\n",
    "        # Explore neighbors \n",
    "        for new_dir, (dx, dy) in enumerate(directions):\n",
    "            nx, ny = x + dx, y + dy\n",
    "            if maze[ny][nx] == \".\" or maze[ny][nx] == \"E\":\n",
    "                if current_dir == new_dir:\n",
    "                    new_cost = cost + 1\n",
    "                else:\n",
    "                    new_cost = cost + 1000 + 1\n",
    "                    \n",
    "                heapq.heappush(pq, (new_cost, nx, ny, new_dir, path + [(nx,ny)]))\n",
    "\n",
    "    return paths\n",
    "    \n",
    "paths = dijkstra_paths(maze, start, end)\n",
    "result = set()\n",
    "for path in paths:\n",
    "    for point in path:\n",
    "        result.add(point)   \n",
    "\n",
    "print(len(result))"
   ]
  },
  {
   "cell_type": "markdown",
   "metadata": {},
   "source": [
    "### Day 17"
   ]
  },
  {
   "cell_type": "code",
   "execution_count": 382,
   "metadata": {},
   "outputs": [
    {
     "name": "stdout",
     "output_type": "stream",
     "text": [
      "7,1,3,7,5,1,0,3,4\n"
     ]
    }
   ],
   "source": [
    "registers = {}\n",
    "program = []\n",
    "\n",
    "with open(join(cwd, \"inputs/input_17.txt\")) as file:\n",
    "    r, p = file.read().split(\"\\n\\n\")\n",
    "    \n",
    "    r = r.split(\"\\n\")\n",
    "    for x in r:\n",
    "        registers[x.split(\" \")[1][0]] = int(x.split(\" \")[2])\n",
    "\n",
    "    p = p.strip().split(\" \")[1].split(\",\")\n",
    "    program = [int(x) for x in p]\n",
    "\n",
    "def run():\n",
    "    program.append(\"Halt\")\n",
    "    output = []\n",
    "    combo_ops = [0, 2, 5, 6, 7]\n",
    "    instruction_pointer = 0\n",
    "\n",
    "    while(True):\n",
    "        \n",
    "        if program[instruction_pointer] == \"Halt\":\n",
    "            break\n",
    "\n",
    "        opcode = program[instruction_pointer] \n",
    "        operand = program[instruction_pointer + 1]\n",
    "\n",
    "        if(opcode in combo_ops):\n",
    "            if operand == 4: operand = registers[\"A\"]\n",
    "            elif operand == 5: operand = registers[\"B\"]\n",
    "            elif operand == 6: operand = registers[\"C\"]\n",
    "            elif operand == 7: raise Exception(\"Operand is Reserved!\")\n",
    "\n",
    "        if opcode == 0: registers[\"A\"] = registers[\"A\"] // 2 ** operand\n",
    "        elif opcode == 1: registers[\"B\"] = registers[\"B\"] ^ operand   \n",
    "        elif opcode == 2: registers[\"B\"] = operand % 8\n",
    "        elif opcode == 3: \n",
    "            if registers[\"A\"] != 0:\n",
    "                instruction_pointer = operand\n",
    "                continue\n",
    "        elif opcode == 4: registers[\"B\"] = registers[\"B\"] ^ registers[\"C\"]\n",
    "        elif opcode == 5: output.append(operand % 8)\n",
    "        elif opcode == 6: registers[\"B\"] = registers[\"A\"] // 2 ** operand\n",
    "        elif opcode == 7: registers[\"C\"] = registers[\"A\"] // 2 ** operand\n",
    "        else: raise Exception(\"Operator is 8 or more!\") \n",
    "\n",
    "        instruction_pointer += 2\n",
    "    \n",
    "    program.pop()\n",
    "    return output\n",
    "\n",
    "print(\",\".join(str(x) for x in run()))"
   ]
  },
  {
   "cell_type": "code",
   "execution_count": 401,
   "metadata": {},
   "outputs": [
    {
     "name": "stdout",
     "output_type": "stream",
     "text": [
      "190384113204239\n"
     ]
    }
   ],
   "source": [
    "\n",
    "def findA():\n",
    "    queue = [(len(program) - 1, 0, True, [])]\n",
    "    while queue:\n",
    "        offset, val, calc, added = queue.pop(0)\n",
    "        if calc:\n",
    "            for cur in range(8):\n",
    "                next_val = (val << 3) + cur\n",
    "                \n",
    "                registers[\"A\"] = next_val\n",
    "                registers[\"B\"] = 0\n",
    "                registers[\"C\"] = 0\n",
    "                result = run()\n",
    "                \n",
    "                if result == program[offset:]:\n",
    "                    if offset == 0:\n",
    "                        return next_val\n",
    "                    queue.append((offset - 1, next_val, True, added + [cur]))\n",
    "                else:\n",
    "                    queue.append((offset - 1, next_val, False, added + [cur]))\n",
    "\n",
    "print(findA())\n",
    "        "
   ]
  },
  {
   "cell_type": "markdown",
   "metadata": {},
   "source": [
    "### Day 18"
   ]
  },
  {
   "cell_type": "code",
   "execution_count": 32,
   "metadata": {},
   "outputs": [
    {
     "name": "stdout",
     "output_type": "stream",
     "text": [
      "246\n"
     ]
    }
   ],
   "source": [
    "from collections import deque\n",
    "\n",
    "corrupted_bytes = []\n",
    "with open(join(cwd, \"inputs/input_18.txt\")) as file:\n",
    "    counter = 0\n",
    "    for line in file:\n",
    "        corrupted_bytes.append((int(line.strip().split(\",\")[0]), int(line.strip().split(\",\")[1])))\n",
    " \n",
    "def shortest_path(walls):\n",
    "    rows, cols = 71, 71\n",
    "    start = (0, 0)\n",
    "    end = (cols - 1, rows - 1)\n",
    "\n",
    "    directions = [(-1, 0), (1, 0), (0, -1), (0, 1)]\n",
    "    wall_set = set(walls)\n",
    "\n",
    "    queue = deque([(start, 0)])\n",
    "    visited = set()\n",
    "    visited.add(start)\n",
    "\n",
    "    while queue:\n",
    "        current, steps = queue.popleft()\n",
    "        if current == end:\n",
    "            return steps\n",
    "        for direction in directions:\n",
    "            next_col = current[0] + direction[0]\n",
    "            next_row = current[1] + direction[1]\n",
    "            next_pos = (next_col, next_row)\n",
    "            if (0 <= next_row < rows and 0 <= next_col < cols and next_pos not in wall_set and next_pos not in visited):\n",
    "                queue.append((next_pos, steps + 1))\n",
    "                visited.add(next_pos)\n",
    "    \n",
    "    return -1\n",
    "\n",
    "print(shortest_path(corrupted_bytes[:1024]))\n"
   ]
  },
  {
   "cell_type": "code",
   "execution_count": 37,
   "metadata": {},
   "outputs": [
    {
     "name": "stdout",
     "output_type": "stream",
     "text": [
      "22,50\n"
     ]
    }
   ],
   "source": [
    "for falling_byte in range(1024, len(corrupted_bytes)):\n",
    "    if shortest_path(corrupted_bytes[:falling_byte + 1]) == -1:\n",
    "        result = corrupted_bytes[falling_byte]\n",
    "        print(str(result[0]) + \",\" + str(result[1]))\n",
    "        break"
   ]
  },
  {
   "cell_type": "markdown",
   "metadata": {},
   "source": [
    "### Day 19"
   ]
  },
  {
   "cell_type": "code",
   "execution_count": 35,
   "metadata": {},
   "outputs": [
    {
     "name": "stdout",
     "output_type": "stream",
     "text": [
      "238\n"
     ]
    }
   ],
   "source": [
    "patterns = []\n",
    "designs = []\n",
    "\n",
    "with open(join(cwd, \"inputs/input_19.txt\")) as file:\n",
    "    p,d = file.read().split(\"\\n\\n\")\n",
    "    patterns = p.strip().split(\", \")\n",
    "    for line in d.split(\"\\n\"):\n",
    "        designs.append(line)\n",
    "\n",
    "def can_create_design(design):\n",
    "    if not design:\n",
    "        return True\n",
    "    for pattern in patterns:\n",
    "        if design.startswith(pattern):\n",
    "            if can_create_design(design[len(pattern):]):\n",
    "                return True\n",
    "    return False\n",
    "\n",
    "possible_count = 0\n",
    "for design in designs:\n",
    "    if can_create_design(design):\n",
    "        possible_count += 1\n",
    "print(possible_count)\n"
   ]
  },
  {
   "cell_type": "code",
   "execution_count": 39,
   "metadata": {},
   "outputs": [
    {
     "name": "stdout",
     "output_type": "stream",
     "text": [
      "635018909726691\n"
     ]
    }
   ],
   "source": [
    "from functools import lru_cache\n",
    "\n",
    "@lru_cache(None)\n",
    "def count_design_ways(design):\n",
    "    if not design:\n",
    "        return 1\n",
    "    count = 0\n",
    "    for pattern in patterns:\n",
    "        if design.startswith(pattern):\n",
    "            count += count_design_ways(design[len(pattern):])    \n",
    "    return count\n",
    "\n",
    "result = 0\n",
    "for design in designs:\n",
    "    result += count_design_ways(design)\n",
    "print(result)"
   ]
  },
  {
   "cell_type": "markdown",
   "metadata": {},
   "source": [
    "### Day 20"
   ]
  },
  {
   "cell_type": "code",
   "execution_count": 33,
   "metadata": {},
   "outputs": [
    {
     "name": "stdout",
     "output_type": "stream",
     "text": [
      "1415\n"
     ]
    }
   ],
   "source": [
    "from collections import deque\n",
    "\n",
    "maze = []\n",
    "\n",
    "start = (0, 0)\n",
    "end = (0, 0)\n",
    "\n",
    "with open(join(cwd, \"inputs/input_20.txt\")) as file:\n",
    "    for y, line in enumerate(file):\n",
    "        line = list(line.strip())\n",
    "        maze.append(line)\n",
    "        if \"S\" in line:\n",
    "            start = (line.index(\"S\"), y)\n",
    "        if \"E\" in line:\n",
    "            end = (line.index(\"E\"), y)\n",
    "\n",
    "directions = [(-1, 0), (1, 0), (0, -1), (0, 1)]\n",
    "rows, cols = len(maze), len(maze[0])\n",
    "\n",
    "def bfs(start_pos):\n",
    "        dist = [[float('inf')] * cols for _ in range(rows)]\n",
    "        sx, sy = start_pos\n",
    "        dist[sy][sx] = 0\n",
    "        queue = deque([start_pos])\n",
    "        while queue:\n",
    "            x, y = queue.popleft()\n",
    "            for dx, dy in directions:\n",
    "                nx, ny = x+dx, y+dy\n",
    "                if 0 <= ny < rows and 0 <= nx < cols:\n",
    "                    if maze[ny][nx] in (\".\", \"S\", \"E\") and dist[ny][nx] > dist[y][x] + 1:\n",
    "                        dist[ny][nx] = dist[y][x] + 1\n",
    "                        queue.append((nx, ny))\n",
    "        return dist\n",
    "\n",
    "dist_from_S = bfs(start)\n",
    "dist_from_E = bfs(end)\n",
    "normal_dist = dist_from_S[end[0]][end[1]]\n",
    "\n",
    "cheats = set()\n",
    "\n",
    "for y in range(rows):\n",
    "    for x in range(cols):\n",
    "        if dist_from_S[y][x] == float('inf'): continue\n",
    "        if maze[y][x] == \"#\": continue\n",
    "        base_dist = dist_from_S[y][x]\n",
    "        \n",
    "        # 1-step cheat\n",
    "        for dx, dy in directions:\n",
    "            nx, ny = x+dx, y+dy\n",
    "            if 0 <= nx < rows and 0 <= ny < cols and maze[ny][nx] in (\".\", \"S\", \"E\") and dist_from_E[ny][nx] != float('inf'):\n",
    "                route_with_cheat = base_dist + 1 + dist_from_E[ny][nx]\n",
    "                saving = normal_dist - route_with_cheat\n",
    "                if saving >= 100: cheats.add((x,y,nx,ny))\n",
    "        # 2-step cheat\n",
    "        for dx1, dy1 in directions:\n",
    "            ix, iy = x+dx1, y+dy1\n",
    "            if 0 <= ix < rows and 0 <= iy < cols:\n",
    "                for dx2, dy2 in directions:\n",
    "                    jx, jy = ix+dx2, iy+dy2\n",
    "                    if 0 <= jy < rows and 0 <= jx < cols and maze[jy][jx] in (\".\", \"S\", \"E\") and dist_from_E[jy][jx] != float('inf'):\n",
    "                        route_with_cheat = base_dist + 2 + dist_from_E[jy][jx]\n",
    "                        saving = normal_dist - route_with_cheat\n",
    "                        if saving >= 100: cheats.add((x,y,jx,jy))\n",
    "\n",
    "print(len(cheats))"
   ]
  },
  {
   "cell_type": "code",
   "execution_count": 31,
   "metadata": {},
   "outputs": [
    {
     "name": "stdout",
     "output_type": "stream",
     "text": [
      "1022577\n"
     ]
    }
   ],
   "source": [
    "cheats = set()\n",
    "track_cells_from_S = [(x,y) for y in range(rows) for x in range(cols) if dist_from_S[y][x] != float('inf') and maze[y][x] != \"#\"]\n",
    "\n",
    "for (sx, sy) in track_cells_from_S:\n",
    "        dist_ignore_walls = [[float('inf')] * cols for _ in range(rows)]\n",
    "        dist_ignore_walls[sy][sx] = 0\n",
    "        q = deque([(sx, sy)])\n",
    "        while q:\n",
    "            x, y = q.popleft()\n",
    "            d = dist_ignore_walls[y][x]\n",
    "            if d == 20: continue\n",
    "            for dx, dy in directions:\n",
    "                nx, ny = x+dx, y+dy\n",
    "                if 0 <= ny < rows and 0 <= nx < cols and dist_ignore_walls[ny][nx] > d + 1:\n",
    "                    dist_ignore_walls[ny][nx] = d+1\n",
    "                    q.append((nx, ny))\n",
    "\n",
    "        # All maze cells reachable within ≤20 steps\n",
    "        base_dist = dist_from_S[sy][sx]\n",
    "        for fy in range(rows):\n",
    "            for fx in range(cols):\n",
    "                d = dist_ignore_walls[fy][fx]\n",
    "                if d != float('inf') and 1 <= d <= 20 and maze[fy][fx] != \"#\" and dist_from_E[fy][fx] != float('inf'):\n",
    "                    route_with_cheat = base_dist + d + dist_from_E[fy][fx]\n",
    "                    saving = normal_dist - route_with_cheat\n",
    "                    if saving >= 100: cheats.add((sx, sy, fx, fy))\n",
    "\n",
    "print(len(cheats))\n"
   ]
  },
  {
   "cell_type": "markdown",
   "metadata": {},
   "source": [
    "### Day 21"
   ]
  },
  {
   "cell_type": "code",
   "execution_count": 139,
   "metadata": {},
   "outputs": [
    {
     "name": "stdout",
     "output_type": "stream",
     "text": [
      "248684\n"
     ]
    }
   ],
   "source": [
    "from functools import lru_cache\n",
    "\n",
    "codes = []\n",
    "with open(join(cwd, \"inputs/input_21.txt\")) as file:\n",
    "    for line in file:\n",
    "        codes.append(line.strip())\n",
    "\n",
    "def pad(layer):\n",
    "    if layer == 0: \n",
    "        return {'7':(0,0), '8':(0,1), '9':(0,2), \n",
    "                '4':(1,0), '5':(1,1), '6':(1,2), \n",
    "                '1':(2,0), '2':(2,1), '3':(2,2),\n",
    "                '-':(3,0), '0':(3,1), 'A':(3,2)}\n",
    "    else: \n",
    "        return {'-':(0,0), '^':(0,1), 'A':(0,2),\n",
    "                '<':(1,0), 'v':(1,1), '>':(1,2)}\n",
    "\n",
    "@lru_cache(None)\n",
    "def get_shortest_length(layer, code, max_iter, prev='A'):\n",
    "    if layer == max_iter: return len(code)\n",
    "    length = 0\n",
    "    for char in code:\n",
    "        min_length = float('inf')\n",
    "\n",
    "        x1, y1 = pad(layer)[prev]\n",
    "        x2, y2 = pad(layer)[char]\n",
    "        xn, yn = pad(layer)['-']\n",
    "        \n",
    "        s1 = '^' * max(x1-x2, 0) + 'v' * max(x2-x1, 0)\n",
    "        s2 = '<' * max(y1-y2, 0) + '>' * max(y2-y1, 0)\n",
    "\n",
    "        if x1 != xn or y2 != yn:\n",
    "            min_length = min(min_length, get_shortest_length(layer+1, s2+s1+'A', max_iter))\n",
    "\n",
    "        if x2 != xn or y1 != yn: \n",
    "            min_length = min(min_length, get_shortest_length(layer+1, s1+s2+'A', max_iter))\n",
    "        \n",
    "        length += min_length\n",
    "        prev = char\n",
    "\n",
    "    return length\n",
    "\n",
    "complexities = 0\n",
    "for code in codes:\n",
    "    complexities += get_shortest_length(0, code, 3) * int(code[:3]) \n",
    "print(complexities)"
   ]
  },
  {
   "cell_type": "code",
   "execution_count": 137,
   "metadata": {},
   "outputs": [
    {
     "name": "stdout",
     "output_type": "stream",
     "text": [
      "307055584161760\n"
     ]
    }
   ],
   "source": [
    "complexities = 0\n",
    "for code in codes:\n",
    "    complexities += get_shortest_length(0, code, 26) * int(code[:3]) \n",
    "print(complexities)"
   ]
  },
  {
   "cell_type": "markdown",
   "metadata": {},
   "source": [
    "### Day 22"
   ]
  },
  {
   "cell_type": "code",
   "execution_count": 22,
   "metadata": {},
   "outputs": [
    {
     "name": "stdout",
     "output_type": "stream",
     "text": [
      "16894083306\n"
     ]
    }
   ],
   "source": [
    "numbers = []\n",
    "with open(join(cwd, \"inputs/input_22.txt\")) as file:\n",
    "    for line in file:\n",
    "        numbers.append(int(line.strip()))\n",
    "\n",
    "def step_number(number):\n",
    "    n1 = number * 64\n",
    "    n1 ^= number\n",
    "    n1 %= 16777216\n",
    "        \n",
    "    n2 = n1 // 32\n",
    "    n2 ^= n1\n",
    "    n2 %= 16777216\n",
    "        \n",
    "    n3 = n2 * 2048\n",
    "    n3 ^= n2\n",
    "    n3 %= 16777216\n",
    "    \n",
    "    return n3\n",
    "\n",
    "result = []\n",
    "for number in numbers:\n",
    "    for s in range(2000):\n",
    "        number = step_number(number)\n",
    "    result.append(number)\n",
    "\n",
    "print(sum(result))"
   ]
  },
  {
   "cell_type": "code",
   "execution_count": null,
   "metadata": {},
   "outputs": [
    {
     "name": "stdout",
     "output_type": "stream",
     "text": [
      "1925\n"
     ]
    }
   ],
   "source": [
    "numbers = []\n",
    "with open(join(cwd, \"inputs/input_22.txt\")) as file:\n",
    "    for line in file:\n",
    "        numbers.append(int(line.strip()))\n",
    "\n",
    "sequences = {}\n",
    "for number in numbers:\n",
    "    bananas = []\n",
    "    for s in range(2000):\n",
    "        number = step_number(number)\n",
    "        bananas.append(number%10)\n",
    "\n",
    "    tried_sequences = set()\n",
    "    changes = [x2-x1 for (x1,x2) in zip(bananas, bananas[1:])]\n",
    "    for i in range(len(changes) - 3):\n",
    "        sequence = str(changes[i]) + \",\" + str(changes[i+1]) + \",\" + str(changes[i+2]) + \",\" + str(changes[i+3])\n",
    "        if sequence in tried_sequences:\n",
    "            continue\n",
    "        \n",
    "        tried_sequences.add(sequence)\n",
    "        if not sequence in sequences.keys():\n",
    "            sequences[sequence] = 0\n",
    "        sequences[sequence] += bananas[i+4]\n",
    "\n",
    "print(max(sequences.values()))"
   ]
  },
  {
   "cell_type": "markdown",
   "metadata": {},
   "source": [
    "### Day 23"
   ]
  },
  {
   "cell_type": "code",
   "execution_count": 51,
   "metadata": {},
   "outputs": [
    {
     "name": "stdout",
     "output_type": "stream",
     "text": [
      "1156\n"
     ]
    }
   ],
   "source": [
    "from collections import defaultdict\n",
    "\n",
    "connections = []\n",
    "with open(join(cwd, \"inputs/input_23.txt\")) as file:\n",
    "    for line in file:\n",
    "        connections.append(line.strip().split('-'))\n",
    "\n",
    "graph = defaultdict(set)\n",
    "for conn in connections:\n",
    "    node1, node2 = conn[0], conn[1]\n",
    "    graph[node1].add(node2)\n",
    "    graph[node2].add(node1)\n",
    "\n",
    "triples = set()\n",
    "for node in graph:\n",
    "    for neighbour1 in graph[node]:\n",
    "        for neighbour2 in graph[neighbour1]:\n",
    "            if neighbour2 != node and node in graph[neighbour2]:\n",
    "                triple = tuple(sorted([node, neighbour1, neighbour2]))\n",
    "                if any(n.startswith('t') for n in triple):\n",
    "                    triples.add(triple)\n",
    "     \n",
    "print(len(triples))\n"
   ]
  },
  {
   "cell_type": "code",
   "execution_count": 59,
   "metadata": {},
   "outputs": [
    {
     "name": "stdout",
     "output_type": "stream",
     "text": [
      "bx,cx,dr,dx,is,jg,km,kt,li,lt,nh,uf,um\n"
     ]
    }
   ],
   "source": [
    "def bron_kerbosch(graph, R, P, X, cliques):\n",
    "    if not P and not X:\n",
    "        cliques.append(R)  \n",
    "        return\n",
    "    pivot = next(iter(P | X))  \n",
    "    for v in P - graph[pivot]:\n",
    "        bron_kerbosch(\n",
    "            graph,\n",
    "            R | {v},            \n",
    "            P & graph[v],       \n",
    "            X & graph[v],       \n",
    "            cliques\n",
    "        )\n",
    "        P.remove(v)             \n",
    "        X.add(v)       \n",
    "\n",
    "def bron_kerbosch_find_cliques(graph):\n",
    "    cliques = []\n",
    "    nodes = set(graph.keys())\n",
    "    bron_kerbosch(graph, set(), nodes, set(), cliques)\n",
    "    return cliques\n",
    "\n",
    "all_cliques = bron_kerbosch_find_cliques(graph)\n",
    "largest_clique = max(all_cliques, key=len)\n",
    "\n",
    "print(','.join(sorted(largest_clique)))"
   ]
  },
  {
   "cell_type": "markdown",
   "metadata": {},
   "source": [
    "### Day 24"
   ]
  },
  {
   "cell_type": "code",
   "execution_count": 31,
   "metadata": {},
   "outputs": [
    {
     "name": "stdout",
     "output_type": "stream",
     "text": [
      "51837135476040\n"
     ]
    }
   ],
   "source": [
    "start_values = {}\n",
    "operations = []\n",
    "outputs = {}\n",
    "\n",
    "with open(join(cwd, \"inputs/input_24.txt\")) as file:\n",
    "    vals, ops  = file.read().split(\"\\n\\n\")\n",
    "    vals, ops = vals.split(\"\\n\"), ops.split(\"\\n\")\n",
    "    for val in vals:\n",
    "        start_values[val.split(\": \")[0]] = int(val.split(\": \")[1])\n",
    "    for op in ops:\n",
    "        op = op.split(\" \")\n",
    "        outputs[op[4]] = None\n",
    "        operations.append((op[1], op[0], op[2], op[4]))\n",
    "\n",
    "def calculate(op):\n",
    "    gate, val1, val2, res = op\n",
    "\n",
    "    if val1 in start_values.keys():\n",
    "        val1 = start_values[val1]\n",
    "    elif outputs[val1] != None:\n",
    "        val1 = outputs[val1]\n",
    "    else: return False\n",
    "\n",
    "    if val2 in start_values.keys():\n",
    "        val2 = start_values[val2]\n",
    "    elif outputs[val2] != None:\n",
    "        val2 = outputs[val2]\n",
    "    else: return False\n",
    "\n",
    "    if gate == \"AND\": outputs[res] = val1 & val2\n",
    "    if gate == \"OR\": outputs[res] = val1 | val2\n",
    "    if gate == \"XOR\": outputs[res] = val1 ^ val2\n",
    "    return True\n",
    "\n",
    "while(None in outputs.values()):\n",
    "    for op in operations:\n",
    "        if calculate(op):\n",
    "            continue\n",
    "\n",
    "sort_list = sorted(outputs)\n",
    "sort_list.reverse()\n",
    "output = \"\"\n",
    "for key in sort_list:\n",
    "    if key.startswith('z'):\n",
    "        output+=str(outputs[key])\n",
    "print(int(output, 2))\n"
   ]
  },
  {
   "cell_type": "code",
   "execution_count": 38,
   "metadata": {},
   "outputs": [
    {
     "name": "stdout",
     "output_type": "stream",
     "text": [
      "hjf,kdh,kpp,sgj,vss,z14,z31,z35\n"
     ]
    }
   ],
   "source": [
    "formulas = {}\n",
    "\n",
    "with open(join(cwd, \"inputs/input_24.txt\")) as file:\n",
    "    for i, line in enumerate(file):\n",
    "        if \"->\" in line:\n",
    "            x, op, y, z = line.replace(\" -> \", \" \").split()\n",
    "            formulas[z] = (op, x, y)\n",
    "\n",
    "def make_wire(char, num):\n",
    "    return char + str(num).rjust(2, \"0\")\n",
    "\n",
    "def verify_z(wire, num):\n",
    "    if wire not in formulas: return False\n",
    "    op, x, y = formulas[wire]\n",
    "    if op != \"XOR\": return False\n",
    "    if num == 0: return sorted([x, y]) == [\"x00\", \"y00\"]\n",
    "    return verify_intermediate_xor(x, num) and verify_carry_bit(y, num) or verify_intermediate_xor(y, num) and verify_carry_bit(x, num)\n",
    "\n",
    "def verify_intermediate_xor(wire, num):\n",
    "    if wire not in formulas: return False\n",
    "    op, x, y = formulas[wire]\n",
    "    if op != \"XOR\": return False\n",
    "    return sorted([x, y]) == [make_wire(\"x\", num), make_wire(\"y\", num)]\n",
    "\n",
    "def verify_carry_bit(wire, num):\n",
    "    if wire not in formulas: return False\n",
    "    op, x, y = formulas[wire]\n",
    "    if num == 1:\n",
    "        if op != \"AND\": return False\n",
    "        return sorted([x, y]) == [\"x00\", \"y00\"]\n",
    "    if op != \"OR\": return False\n",
    "    return verify_direct_carry(x, num - 1) and verify_recarry(y, num - 1) or verify_direct_carry(y, num - 1) and verify_recarry(x, num - 1)\n",
    "\n",
    "def verify_direct_carry(wire, num):\n",
    "    if wire not in formulas: return False\n",
    "    op, x, y = formulas[wire]\n",
    "    if op != \"AND\": return False\n",
    "    return sorted([x, y]) == [make_wire(\"x\", num), make_wire(\"y\", num)]\n",
    "\n",
    "def verify_recarry(wire, num):\n",
    "    if wire not in formulas: return False\n",
    "    op, x, y = formulas[wire]\n",
    "    if op != \"AND\": return False\n",
    "    return verify_intermediate_xor(x, num) and verify_carry_bit(y, num) or verify_intermediate_xor(y, num) and verify_carry_bit(x, num)\n",
    "\n",
    "def verify(num):\n",
    "    return verify_z(make_wire(\"z\", num), num)\n",
    "\n",
    "def progress():\n",
    "    i = 0\n",
    "    \n",
    "    while True:\n",
    "        if not verify(i): break\n",
    "        i += 1\n",
    "    \n",
    "    return i\n",
    "\n",
    "swaps = []\n",
    "\n",
    "for _ in range(4):\n",
    "    baseline = progress()\n",
    "    for x in formulas:\n",
    "        for y in formulas:\n",
    "            if x == y: continue\n",
    "            formulas[x], formulas[y] = formulas[y], formulas[x]\n",
    "            if progress() > baseline:\n",
    "                break\n",
    "            formulas[x], formulas[y] = formulas[y], formulas[x]\n",
    "        else:\n",
    "            continue\n",
    "        break\n",
    "    swaps += [x, y]\n",
    "\n",
    "print(\",\".join(sorted(swaps)))"
   ]
  },
  {
   "cell_type": "markdown",
   "metadata": {},
   "source": [
    "### Day 25"
   ]
  },
  {
   "cell_type": "code",
   "execution_count": null,
   "metadata": {},
   "outputs": [],
   "source": []
  },
  {
   "cell_type": "code",
   "execution_count": null,
   "metadata": {},
   "outputs": [],
   "source": []
  }
 ],
 "metadata": {
  "kernelspec": {
   "display_name": "Python 3",
   "language": "python",
   "name": "python3"
  },
  "language_info": {
   "codemirror_mode": {
    "name": "ipython",
    "version": 3
   },
   "file_extension": ".py",
   "mimetype": "text/x-python",
   "name": "python",
   "nbconvert_exporter": "python",
   "pygments_lexer": "ipython3",
   "version": "3.12.4"
  }
 },
 "nbformat": 4,
 "nbformat_minor": 2
}
